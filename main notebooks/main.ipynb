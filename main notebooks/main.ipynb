{
 "cells": [
  {
   "cell_type": "markdown",
   "metadata": {},
   "source": [
    "### 0 - Imports :"
   ]
  },
  {
   "cell_type": "code",
   "execution_count": 1,
   "metadata": {},
   "outputs": [],
   "source": [
    "import sys\n",
    "import pandas as pd\n",
    "import numpy as np\n",
    "import os"
   ]
  },
  {
   "cell_type": "code",
   "execution_count": 2,
   "metadata": {},
   "outputs": [],
   "source": [
    "current_path = os.getcwd()\n",
    "\n",
    "project_directory = os.path.dirname( os.path.abspath( current_path ) )\n",
    "history_data_filename = \"IA BPC Teinte v2.xlsm\"\n",
    "requested_formulas_data_filename = \"IA BPC Teinte Besoins.xlsm\"\n",
    "reference_formulas_data_filename = \"composition des SOP avec type d'intro MP.xlsm\""
   ]
  },
  {
   "cell_type": "code",
   "execution_count": 3,
   "metadata": {},
   "outputs": [],
   "source": [
    "sys.path.append(project_directory)\n",
    "from model.modules import Factory , Formula , Batch\n",
    "from model.outil import create_factory, upload_factory , determine_week_month_requested_formulas , check_datafiles , add_type_column_to_history_df , filter_history_df , transform_formulas_prediction ,transform_reference_df ,  determine_selected_formulas_ids"
   ]
  },
  {
   "cell_type": "markdown",
   "metadata": {},
   "source": [
    "### 1 - Loading Data :"
   ]
  },
  {
   "cell_type": "markdown",
   "metadata": {},
   "source": [
    "The user should enter the date of the provided data in the format \"DD-MM-YYYY\"."
   ]
  },
  {
   "cell_type": "code",
   "execution_count": 4,
   "metadata": {},
   "outputs": [],
   "source": [
    "data_date = \"01-10-2024\""
   ]
  },
  {
   "cell_type": "markdown",
   "metadata": {},
   "source": [
    "Folders will then be created for temporary files, plot files, and result files specific to this date."
   ]
  },
  {
   "cell_type": "code",
   "execution_count": 5,
   "metadata": {},
   "outputs": [],
   "source": [
    "data_files_path = project_directory + \"/data/data \"+ data_date +\"/\"\n",
    "temp_files_path = project_directory + \"/temp files/temp files \"+ data_date +\"/\"\n",
    "plots_files_path = project_directory + \"/plots files/plots files \"+ data_date +\"/\"\n",
    "results_files_path = project_directory + \"/results files/results files \"+ data_date +\"/\""
   ]
  },
  {
   "cell_type": "code",
   "execution_count": 6,
   "metadata": {},
   "outputs": [
    {
     "name": "stdout",
     "output_type": "stream",
     "text": [
      "Folder already exists at : /Users/nossa.iyamu/Library/CloudStorage/OneDrive-L'Oréal/Desktop/Smart BATCH Project/temp files/temp files 01-10-2024/\n",
      "Folder already exists at : /Users/nossa.iyamu/Library/CloudStorage/OneDrive-L'Oréal/Desktop/Smart BATCH Project/plots files/plots files 01-10-2024/\n",
      "Folder already exists at : /Users/nossa.iyamu/Library/CloudStorage/OneDrive-L'Oréal/Desktop/Smart BATCH Project/results files/results files 01-10-2024/\n"
     ]
    }
   ],
   "source": [
    "for path in [temp_files_path , plots_files_path , results_files_path] :\n",
    "    if not os.path.exists(path):\n",
    "        os.makedirs(path)\n",
    "        print(f\"Folder created at : {path}\")\n",
    "    else:\n",
    "        print(f\"Folder already exists at : {path}\")"
   ]
  },
  {
   "cell_type": "markdown",
   "metadata": {},
   "source": [
    "Reading the data files (formulas history file, requested batches file, and formula references file) specific to the specified date."
   ]
  },
  {
   "cell_type": "code",
   "execution_count": 7,
   "metadata": {},
   "outputs": [],
   "source": [
    "df = pd.read_excel(data_files_path + history_data_filename)\n",
    "requested_formulas_df = pd.read_excel(data_files_path + requested_formulas_data_filename)\n",
    "reference_df = pd.read_excel(data_files_path + reference_formulas_data_filename)"
   ]
  },
  {
   "cell_type": "code",
   "execution_count": 8,
   "metadata": {},
   "outputs": [
    {
     "name": "stdout",
     "output_type": "stream",
     "text": [
      "Total number of requested formulas : 282 \n",
      "\n",
      "Number of requested formulas with both history and reference data : 177\n",
      "Requested formula ids with both history and reference data : {'ZZBP84740903', 'ZZ87654110', 'ZZ2010112', 'ZZ87775006', 'ZZ9932791', 'ZZ87647706', 'ZZ20102525', 'ZZ96571701', 'ZZ9660091', 'ZZBP84740925', 'ZZBP84740987', 'ZZ2009887', 'ZZ994006', 'ZZ20096942', 'ZZ96606301', 'ZZ2009262', 'ZZ994098', 'ZZ993762', 'ZZ20087022', 'ZZ87774412', 'ZZ96471106', 'ZZ9941704', 'ZZ9660001', 'ZZ993897', 'ZZ9932881', 'ZZ20089942', 'ZZ20096991', 'ZZBP84740983', 'ZZ86102724', 'ZZ966056', 'ZZ994005', 'ZZ993785', 'ZZ9659402', 'ZZ994083', 'ZZ20087312', 'ZZ96565609', 'ZZBP84740935', 'ZZ9660061', 'ZZ20091522', 'ZZ20100548', 'ZZ20087372', 'ZZ993894', 'ZZP908348SA8', 'ZZ2010093', 'ZZ20087952', 'ZZ9655091', 'ZZ9921647', 'ZZ994094', 'ZZ86099524', 'ZZ2009257', 'ZZ9652553', 'ZZ9921655', 'ZZ96564502', 'ZZ20102002', 'ZZBP84740986', 'ZZ9660041', 'ZZ966013', 'ZZ9652562', 'ZZ966101', 'ZZ994089', 'ZZ994018', 'ZZBP84740947', 'ZZ20091432', 'ZZP829707B', 'ZZ96432904', 'ZZ993896', 'ZZ993775', 'ZZ20091473', 'ZZ993099', 'ZZ20087765', 'ZZ20096411', 'ZZ9661001', 'ZZ9660901', 'ZZ20096981', 'ZZ20100885', 'ZZ9932851', 'ZZ993094', 'ZZ96465703', 'ZZ965962', 'ZZ2010090', 'ZZ96559101', 'ZZ966113', 'ZZ2009886', 'ZZ96565506', 'ZZ20087052', 'ZZBP84740985', 'ZZ965963', 'ZZ992830', 'ZZ20087961', 'ZZ9658881', 'ZZ2009022', 'ZZ9658812', 'ZZ9660021', 'ZZ965980', 'ZZ87779615', 'ZZ966110', 'ZZ2010450', 'ZZ965975', 'ZZ20096931', 'ZZ20096736', 'ZZ2009855', 'ZZ96590014', 'ZZ965421', 'ZZ96590411', 'ZZ2009020', 'ZZ9940111', 'ZZ20100796', 'ZZ993089', 'ZZ993092', 'ZZ87786112', 'ZZ20100967', 'ZZ993772', 'ZZ20089912', 'ZZ20091452', 'ZZ20075801', 'ZZ87653707', 'ZZ96571507', 'ZZ993892', 'ZZ2009862', 'ZZ9932871', 'ZZ2009875', 'ZZ20101141', 'ZZ965458', 'ZZ993100', 'ZZ87774506', 'ZZ965971', 'ZZ994008', 'ZZPP74228251', 'ZZ993093', 'ZZ87788202', 'ZZP2009852SA1', 'ZZ993091', 'ZZ20087732', 'ZZ994085', 'ZZ20091482', 'ZZ9941733', 'ZZP2009424A1', 'ZZ994016', 'ZZ965979', 'ZZ96435002', 'ZZ9932801', 'ZZ2009960', 'ZZ2010184', 'ZZ2010092', 'ZZ993895', 'ZZ20091561', 'ZZ993902', 'ZZ994009', 'ZZ20087012', 'ZZ20086302', 'ZZ9932821', 'ZZ966059', 'ZZ994082', 'ZZ20098263', 'ZZ9941716', 'ZZ86099724', 'ZZ20097611', 'ZZ96447502', 'ZZ994117', 'ZZ2009881', 'ZZ993643', 'ZZ965968', 'ZZ993777', 'ZZ9660051', 'ZZ96422721B', 'ZZ96564603', 'ZZ994090', 'ZZ20089932', 'ZZ9660071', 'ZZ993778', 'ZZ20075681', 'ZZ965966', 'ZZ9932921', 'ZZ96606505B', 'ZZ96606706', 'ZZPPT7182871', 'ZZ994013'} \n",
      "\n",
      "Number of requested formulas with no reference data : 2\n",
      "Requested formula ids with no reference data : {'ZZP2010389B', 'ZZ966213'} \n",
      "\n",
      "Number of requested formulas with no history data : 105\n",
      "Requested formula ids with no history data : {'ZZ993108', 'ZZ9942001', 'ZZ966213', 'ZZ9941982', 'ZZ966177', 'ZZ9657242', 'ZZPP7533183A', 'ZZP96569819', 'ZZ994423', 'ZZ96614701', 'ZZ994399', 'ZZ96614501', 'ZZ994402', 'ZZ993899', 'ZZ9943852', 'ZZ994398', 'ZZ20103261', 'ZZ96465704', 'ZZ96607806', 'ZZ2010319', 'ZZPP7533148B', 'ZZ966183', 'ZZ20102101', 'ZZ994401', 'ZZ20091372', 'ZZ2010456', 'ZZ9941903', 'ZZ96607411', 'ZZ993901', 'ZZ20101673', 'ZZ96607309', 'ZZ994431', 'ZZPP7533186B', 'ZZ994403', 'ZZP2010389A', 'ZZ96614103', 'ZZ9941932', 'ZZ994421', 'ZZP96568412', 'ZZ96608004', 'ZZ9660081', 'ZZ20104541', 'ZZ20103321', 'ZZ20101682', 'ZZ993782', 'ZZ994429', 'ZZ96471202', 'ZZ9941951', 'ZZ993101', 'ZZ96607113', 'ZZ20091733', 'ZZ96607908', 'ZZ9941723', 'ZZ96607211', 'ZZ20101742', 'ZZ96614316', 'ZZ9944251', 'ZZP96568816', 'ZZPP7533187A', 'ZZ966156', 'ZZBP847409S83', 'ZZ96471107', 'ZZP2010389B', 'ZZPP7533103C', 'ZZ20101652', 'ZZ96607709', 'ZZ994400', 'ZZ9657322', 'ZZ966184', 'ZZ96607508', 'ZZ96602123', 'ZZ96608401', 'ZZ9656693', 'ZZ994430', 'ZZPP7533147C', 'ZZ2010481', 'ZZP96568715', 'ZZ96607008', 'ZZ9943845', 'ZZ20101782', 'ZZ966182', 'ZZ20103061', 'ZZ993104', 'ZZ20102981', 'ZZ966176', 'ZZ96607615', 'ZZ9943872', 'ZZ2010316', 'ZZ994428', 'ZZ2010305', 'ZZ96614801', 'ZZ9943861', 'ZZ20103271', 'ZZ9941926', 'ZZ20102061', 'ZZ966175', 'ZZ994420', 'ZZ9659791M', 'ZZ20091393', 'ZZ2010401', 'ZZPP7533135C', 'ZZ96606907', 'ZZPP7533198B', 'ZZ9659991', 'ZZ993102'} \n",
      "\n"
     ]
    }
   ],
   "source": [
    "check_datafiles(df,requested_formulas_df,reference_df)"
   ]
  },
  {
   "cell_type": "markdown",
   "metadata": {},
   "source": [
    "### 2 - Data Engineering :"
   ]
  },
  {
   "cell_type": "markdown",
   "metadata": {},
   "source": [
    "Selecting the formula IDs that are requested in the requested batches file and are present in both the formulas history file and the formula references file."
   ]
  },
  {
   "cell_type": "code",
   "execution_count": 9,
   "metadata": {},
   "outputs": [],
   "source": [
    "df_aux = filter_history_df(df)\n",
    "df_aux = add_type_column_to_history_df(df_aux , requested_formulas_df)\n",
    "selected_formulas_ids = determine_selected_formulas_ids(df_aux , requested_formulas_df, reference_df )"
   ]
  },
  {
   "cell_type": "code",
   "execution_count": 10,
   "metadata": {},
   "outputs": [
    {
     "name": "stdout",
     "output_type": "stream",
     "text": [
      "140\n"
     ]
    }
   ],
   "source": [
    "print(len(selected_formulas_ids))"
   ]
  },
  {
   "cell_type": "markdown",
   "metadata": {},
   "source": [
    "### 3 - Create / Upload factory object :"
   ]
  },
  {
   "cell_type": "code",
   "execution_count": 11,
   "metadata": {},
   "outputs": [],
   "source": [
    "factory_file_name = \"factory.pkl\""
   ]
  },
  {
   "cell_type": "markdown",
   "metadata": {},
   "source": [
    "Creating the Factory object and saving it as a pickle file in the specified temporary folder."
   ]
  },
  {
   "cell_type": "code",
   "execution_count": null,
   "metadata": {},
   "outputs": [
    {
     "name": "stderr",
     "output_type": "stream",
     "text": [
      "Processing formulas:   8%|█▊                   | 32/383 [00:02<00:15, 22.35it/s]"
     ]
    }
   ],
   "source": [
    "factory = create_factory(df_aux,temp_files_path ,factory_file_name)\n"
   ]
  },
  {
   "cell_type": "markdown",
   "metadata": {},
   "source": [
    "Loading the Factory object from the spcified pickle file."
   ]
  },
  {
   "cell_type": "code",
   "execution_count": null,
   "metadata": {},
   "outputs": [],
   "source": [
    "#factory = upload_factory(temp_files_path , factory_file_name)"
   ]
  },
  {
   "cell_type": "markdown",
   "metadata": {},
   "source": [
    "### 4 - Data Analysis :"
   ]
  },
  {
   "cell_type": "markdown",
   "metadata": {},
   "source": [
    "Select formula IDs based on various criteria, such as high and low coefficient of variation (CV), whether they have been adjusted, and if they have non-unique raw material compositions.\n"
   ]
  },
  {
   "cell_type": "code",
   "execution_count": null,
   "metadata": {},
   "outputs": [],
   "source": [
    "formulas_ids_with_high_cv = factory.select_formulas_of_cv_higher_than_threshold(0.175)\n",
    "formulas_ids_with_low_cv = factory.select_formulas_of_cv_lower_equal_than_threshold(0.2)\n",
    "adjusted_fomulas_ids_list = factory.get_adjusted_formulas_ids()\n",
    "no_unique_raw_material_composition_formulas_ids_list = factory.get_no_unique_raw_material_composition_formulas_ids()"
   ]
  },
  {
   "cell_type": "markdown",
   "metadata": {},
   "source": [
    "Generate plots for the selected formulas and display them in the notebook."
   ]
  },
  {
   "cell_type": "code",
   "execution_count": null,
   "metadata": {},
   "outputs": [],
   "source": [
    "formulas_ids_to_plot = list(selected_formulas_ids)[:5]\n",
    "factory.plot_selected_formulas(formulas_ids_to_plot)"
   ]
  },
  {
   "cell_type": "markdown",
   "metadata": {},
   "source": [
    "Generate plots for the selected formulas and export them to a pdf file."
   ]
  },
  {
   "cell_type": "code",
   "execution_count": null,
   "metadata": {},
   "outputs": [],
   "source": [
    "plots_filename = \"Formulas_plotted.pdf\"\n",
    "factory.plot_selected_formulas_to_pdf(formulas_ids_to_plot, plots_files_path + plots_filename)"
   ]
  },
  {
   "cell_type": "markdown",
   "metadata": {},
   "source": [
    "Generate plots for the selected formulas with respect to the setted references and export them to a pdf file."
   ]
  },
  {
   "cell_type": "code",
   "execution_count": null,
   "metadata": {},
   "outputs": [],
   "source": [
    "plots_filename = \"Formulas_plotted_with_ref.pdf\"\n",
    "factory.plot_selected_formulas_with_ref_to_pdf(formulas_ids_to_plot, plots_files_path + plots_filename)"
   ]
  },
  {
   "cell_type": "markdown",
   "metadata": {},
   "source": [
    "### 5 - Data Modelling :"
   ]
  },
  {
   "cell_type": "markdown",
   "metadata": {},
   "source": [
    "#### 5.1 - Filtering Stable Formulas Stage :"
   ]
  },
  {
   "cell_type": "markdown",
   "metadata": {},
   "source": [
    "Set stability criteria to identify stable formulas."
   ]
  },
  {
   "cell_type": "code",
   "execution_count": null,
   "metadata": {},
   "outputs": [],
   "source": [
    "THRESHOLD_ADJUSTEMENTS_ACCEPTED = 0\n",
    "NB_OF_RECENT_BATCHES_CONSIDERED = 3\n",
    "THRESHOLD_CV = 0.002\n",
    "MIN_ACCEPTED_BATCHES = 3"
   ]
  },
  {
   "cell_type": "markdown",
   "metadata": {},
   "source": [
    "Identify stable formulas by applying specified stability criteria"
   ]
  },
  {
   "cell_type": "code",
   "execution_count": null,
   "metadata": {},
   "outputs": [],
   "source": [
    "stable_formulas = factory.search_of_stable_formulas(selected_formulas_ids = selected_formulas_ids , threshold_adjustements_accepted = THRESHOLD_ADJUSTEMENTS_ACCEPTED ,nb_of_recent_batches_considered = NB_OF_RECENT_BATCHES_CONSIDERED , threshold_cv = THRESHOLD_CV , min_accepted_batches = MIN_ACCEPTED_BATCHES)"
   ]
  },
  {
   "cell_type": "code",
   "execution_count": null,
   "metadata": {},
   "outputs": [],
   "source": [
    "stable_formulas_ids_list = []\n",
    "for stable_formula in stable_formulas:\n",
    "    stable_formulas_ids_list.append(list(stable_formula.keys())[0])\n"
   ]
  },
  {
   "cell_type": "markdown",
   "metadata": {},
   "source": [
    "Remove the stable formulas from the list of selected formulas to prepare for the grid search stage."
   ]
  },
  {
   "cell_type": "code",
   "execution_count": null,
   "metadata": {},
   "outputs": [],
   "source": [
    "selected_formulas_ids =  selected_formulas_ids - set(stable_formulas_ids_list) "
   ]
  },
  {
   "cell_type": "markdown",
   "metadata": {},
   "source": [
    "#### 5.2 - Filtering Stable Last Batch Formulas Stage :"
   ]
  },
  {
   "cell_type": "markdown",
   "metadata": {},
   "source": [
    "Identify formulas with stable last batches by checking whether the last batch of each formula has been adjusted."
   ]
  },
  {
   "cell_type": "code",
   "execution_count": null,
   "metadata": {},
   "outputs": [],
   "source": [
    "last_batch_not_adjusted_formula = []\n",
    "for formula_id in factory.formulas_dict:\n",
    "    formula_object = factory.formulas_dict[formula_id]\n",
    "    if formula_object.batches_arr[-1].adjusted :\n",
    "        last_batch_not_adjusted_formula.append(formula_id)"
   ]
  },
  {
   "cell_type": "markdown",
   "metadata": {},
   "source": [
    "Remove the last batch stable formulas from the list of selected formulas to prepare for the grid search stage.\n"
   ]
  },
  {
   "cell_type": "code",
   "execution_count": null,
   "metadata": {},
   "outputs": [],
   "source": [
    "stable_last_batch_formulas_ids_list = set(last_batch_not_adjusted_formula) & set(selected_formulas_ids)\n",
    "selected_formulas_ids =  selected_formulas_ids - stable_last_batch_formulas_ids_list "
   ]
  },
  {
   "cell_type": "markdown",
   "metadata": {},
   "source": [
    "#### 5.3 - Gridsearch Stage :"
   ]
  },
  {
   "cell_type": "markdown",
   "metadata": {},
   "source": [
    "##### 5.3.1 - Setting gridsearch parameters :"
   ]
  },
  {
   "cell_type": "markdown",
   "metadata": {},
   "source": [
    "The user should enter the `LIMIT_INITIALIZATION_DATE` in the format \"YYYY-MM-DD\" to specify the starting date for the historical data."
   ]
  },
  {
   "cell_type": "code",
   "execution_count": null,
   "metadata": {},
   "outputs": [],
   "source": [
    "#LIMIT_INITIALIZATION_DATE = '2024-01-15'\n",
    "#LIMIT_INITIALIZATION_DATE = '2022-08-01'\n",
    "LIMIT_INITIALIZATION_DATE = '2024-04-15'"
   ]
  },
  {
   "cell_type": "markdown",
   "metadata": {},
   "source": [
    "Set the grid search parameters to generate recommendations for formulas references."
   ]
  },
  {
   "cell_type": "code",
   "execution_count": null,
   "metadata": {},
   "outputs": [],
   "source": [
    "param_ranges = {\n",
    "    'nb_batches_to_remove' : [1 , 2],\n",
    "    'min_nb_batches' : [2 , 3 , 4 , 5 , 6 , 7],\n",
    "    'max_nb_adjustments' : [5 , 6 , 7 , 8 , 9 , 10 , 11],\n",
    "    'limit_initialization_date' : [pd.Period(LIMIT_INITIALIZATION_DATE)] ,\n",
    "    'weighted' : [False , True] , \n",
    "    'initial_weight' : [1 , 1.2],\n",
    "    'increase_rate': [ 0.2 , 0.25 , 0.3 , 0.35]\n",
    "}"
   ]
  },
  {
   "cell_type": "markdown",
   "metadata": {},
   "source": [
    "##### 5.3.2 - Running gridsearch process :"
   ]
  },
  {
   "cell_type": "code",
   "execution_count": null,
   "metadata": {},
   "outputs": [],
   "source": [
    "for percentage_filtered_out_formulas_threshold in range(0,101,5):\n",
    "    passed_boolean , best_params, best_metrics , formulas_predictions , metrics_MP , formulas_ids_filtered_out , selected_batches_dict = factory.grid_search(selected_formulas_ids ,percentage_filtered_out_formulas_threshold,factory.function_metric ,param_ranges)\n",
    "    if passed_boolean :\n",
    "        break"
   ]
  },
  {
   "cell_type": "code",
   "execution_count": null,
   "metadata": {},
   "outputs": [],
   "source": [
    "print(\"Parameters used : \\n\")\n",
    "print(\"Nb of batches removed : \" , best_params[0] , \"\\t Min nb of batches : \" , best_params[1] ,\"\\t Max nb of adjustments : \" , best_params[2] ,\"\\t Limit initialization date : \" , best_params[3] ,\"\\t Weighted : \",best_params[4],\"\\t Initial_weight : \",best_params[5] ,\"\\t Increase_rate : \",best_params[6], \"\\n\")\n",
    "print(\"Average metric : \",best_metrics[0],\"\\t Percentage of formulas filtered out : \",best_metrics[1],\"\\n\")\n",
    "print(\"List of formulas filtered out : \" ,formulas_ids_filtered_out ,\"\\n\")\n"
   ]
  },
  {
   "cell_type": "markdown",
   "metadata": {},
   "source": [
    "### 6 - Results exporting (formulas predictions compared to given formula reference):"
   ]
  },
  {
   "cell_type": "markdown",
   "metadata": {},
   "source": [
    "Apply data transfromation process on the resulted formulas predictions and the given refernce formulas from the references file"
   ]
  },
  {
   "cell_type": "code",
   "execution_count": null,
   "metadata": {},
   "outputs": [],
   "source": [
    "formulas_predictions_df = transform_formulas_prediction(formulas_predictions)\n",
    "reference_df_aux = transform_reference_df(reference_df , formulas_predictions)"
   ]
  },
  {
   "cell_type": "markdown",
   "metadata": {},
   "source": [
    "Identify key indicators regarding the production requests for the selected formula IDs, and add these indicators to the results Excel file."
   ]
  },
  {
   "cell_type": "code",
   "execution_count": null,
   "metadata": {},
   "outputs": [],
   "source": [
    "four_ten_days_requested_formulas_df_grouped , four_days_one_month_requested_formulas_df_grouped , earliest_date_after_four_days = determine_week_month_requested_formulas(requested_formulas_df , ref_date_str = data_date)"
   ]
  },
  {
   "cell_type": "code",
   "execution_count": null,
   "metadata": {},
   "outputs": [],
   "source": [
    "parameters_metrics_variables = {'C3': '0' , \n",
    "                                'C4': len(selected_formulas_ids) ,\n",
    "                                'C7': best_params[0] ,\n",
    "                                'C8': best_params[1] ,\n",
    "                                'C9': best_params[2] ,\n",
    "                                'C10': str(best_params[3]) ,\n",
    "                                'C11': best_params[4] ,\n",
    "                                'C12': best_params[5] ,\n",
    "                                'C13': best_params[6] ,\n",
    "                                'C16': str(round(best_metrics[1],3))+\" %\" ,\n",
    "                                'C17': '' ,\n",
    "                                'C20': best_metrics[0] ,\n",
    "                                'C23': len(stable_formulas) ,\n",
    "                                'C24': THRESHOLD_ADJUSTEMENTS_ACCEPTED ,\n",
    "                                'C25': NB_OF_RECENT_BATCHES_CONSIDERED ,\n",
    "                                'C26': MIN_ACCEPTED_BATCHES ,\n",
    "                                'C27': THRESHOLD_CV \n",
    "                                }"
   ]
  },
  {
   "cell_type": "code",
   "execution_count": null,
   "metadata": {},
   "outputs": [],
   "source": [
    "parameters_metrics_variables"
   ]
  },
  {
   "cell_type": "markdown",
   "metadata": {},
   "source": [
    "Export the results to an Excel file with three sheets:\n",
    "\n",
    "- **Formulas Predictions**: Contains detailed predictions of formula references and comparisons with the given formula references.\n",
    "- **Formulas Indicators**: Provides detailed information about the formulas, including production requests, stability status (stable formula, last batch stable formula), grid search results (passed or filtered out), and a summary recommendation for each formula reference change.\n",
    "- **Parameters and Metrics**: Details the parameters and key metrics used in the stable formulas filtering and grid search processes.\n"
   ]
  },
  {
   "cell_type": "code",
   "execution_count": null,
   "metadata": {},
   "outputs": [],
   "source": [
    "factory.export_predicted_and_ref_formulas_to_excel(results_files_path + \"results_full_history_test.xlsx\" , 2 ,formulas_predictions_df , reference_df_aux , four_ten_days_requested_formulas_df_grouped , four_days_one_month_requested_formulas_df_grouped ,earliest_date_after_four_days, formulas_ids_filtered_out, stable_formulas_ids_list , stable_last_batch_formulas_ids_list , parameters_metrics_variables)"
   ]
  },
  {
   "cell_type": "code",
   "execution_count": null,
   "metadata": {},
   "outputs": [],
   "source": []
  }
 ],
 "metadata": {
  "kernelspec": {
   "display_name": "Python 3 (ipykernel)",
   "language": "python",
   "name": "python3"
  },
  "language_info": {
   "codemirror_mode": {
    "name": "ipython",
    "version": 3
   },
   "file_extension": ".py",
   "mimetype": "text/x-python",
   "name": "python",
   "nbconvert_exporter": "python",
   "pygments_lexer": "ipython3",
   "version": "3.9.6"
  }
 },
 "nbformat": 4,
 "nbformat_minor": 4
}
