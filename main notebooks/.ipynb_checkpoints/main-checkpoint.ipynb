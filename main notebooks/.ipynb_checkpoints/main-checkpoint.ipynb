{
 "cells": [
  {
   "cell_type": "markdown",
   "metadata": {},
   "source": [
    "### 0 - Imports :"
   ]
  },
  {
   "cell_type": "code",
   "execution_count": 1,
   "metadata": {},
   "outputs": [],
   "source": [
    "import sys\n",
    "import pandas as pd\n",
    "import numpy as np\n",
    "import os"
   ]
  },
  {
   "cell_type": "code",
   "execution_count": 2,
   "metadata": {},
   "outputs": [],
   "source": [
    "current_path = os.getcwd()\n",
    "\n",
    "project_directory = os.path.dirname( os.path.abspath( current_path ) )\n",
    "history_data_filename = \"IA BPC Teinte v2.xlsm\"\n",
    "requested_formulas_data_filename = \"IA BPC Teinte Besoins.xlsm\"\n",
    "reference_formulas_data_filename = \"composition des SOP avec type d'intro MP.xlsm\""
   ]
  },
  {
   "cell_type": "code",
   "execution_count": 3,
   "metadata": {},
   "outputs": [],
   "source": [
    "sys.path.append(project_directory)\n",
    "from model.modules import Factory , Formula , Batch\n",
    "from model.outil import create_factory, upload_factory , determine_week_month_requested_formulas , check_datafiles , add_type_column_to_history_df , filter_history_df , transform_formulas_prediction ,transform_reference_df ,  determine_selected_formulas_ids"
   ]
  },
  {
   "cell_type": "markdown",
   "metadata": {},
   "source": [
    "### 1 - Loading Data :"
   ]
  },
  {
   "cell_type": "markdown",
   "metadata": {},
   "source": [
    "The user should enter the date of the provided data in the format \"DD-MM-YYYY\"."
   ]
  },
  {
   "cell_type": "code",
   "execution_count": 4,
   "metadata": {},
   "outputs": [],
   "source": [
    "data_date = \"19-08-2024\""
   ]
  },
  {
   "cell_type": "markdown",
   "metadata": {},
   "source": [
    "Folders will then be created for temporary files, plot files, and result files specific to this date."
   ]
  },
  {
   "cell_type": "code",
   "execution_count": 5,
   "metadata": {},
   "outputs": [],
   "source": [
    "data_files_path = project_directory + \"/data/data \"+ data_date +\"/\"\n",
    "temp_files_path = project_directory + \"/temp files/temp files \"+ data_date +\"/\"\n",
    "plots_files_path = project_directory + \"/plots files/plots files \"+ data_date +\"/\"\n",
    "results_files_path = project_directory + \"/results files/results files \"+ data_date +\"/\""
   ]
  },
  {
   "cell_type": "code",
   "execution_count": 6,
   "metadata": {},
   "outputs": [
    {
     "name": "stdout",
     "output_type": "stream",
     "text": [
      "Folder already exists at : /Users/mohamadelosman/Library/CloudStorage/OneDrive-L'Oréal/Bureau/Smart BATCH Project/temp files/temp files 19-08-2024/\n",
      "Folder already exists at : /Users/mohamadelosman/Library/CloudStorage/OneDrive-L'Oréal/Bureau/Smart BATCH Project/plots files/plots files 19-08-2024/\n",
      "Folder already exists at : /Users/mohamadelosman/Library/CloudStorage/OneDrive-L'Oréal/Bureau/Smart BATCH Project/results files/results files 19-08-2024/\n"
     ]
    }
   ],
   "source": [
    "for path in [temp_files_path , plots_files_path , results_files_path] :\n",
    "    if not os.path.exists(path):\n",
    "        os.makedirs(path)\n",
    "        print(f\"Folder created at : {path}\")\n",
    "    else:\n",
    "        print(f\"Folder already exists at : {path}\")"
   ]
  },
  {
   "cell_type": "markdown",
   "metadata": {},
   "source": [
    "Reading the data files (formulas history file, requested batches file, and formula references file) specific to the specified date."
   ]
  },
  {
   "cell_type": "code",
   "execution_count": 7,
   "metadata": {},
   "outputs": [],
   "source": [
    "df = pd.read_excel(data_files_path + history_data_filename)\n",
    "requested_formulas_df = pd.read_excel(data_files_path + requested_formulas_data_filename)\n",
    "reference_df = pd.read_excel(data_files_path + reference_formulas_data_filename)"
   ]
  },
  {
   "cell_type": "code",
   "execution_count": 8,
   "metadata": {},
   "outputs": [
    {
     "name": "stdout",
     "output_type": "stream",
     "text": [
      "Total number of requested formulas : 332 \n",
      "\n",
      "Number of requested formulas with both history and reference data : 217\n",
      "Requested formula ids with both history and reference data : {'ZZ965978', 'ZZ9660001', 'ZZ96447502', 'ZZ96571307B', 'ZZ20100967', 'ZZ2009336', 'ZZ96564502', 'ZZ965973', 'ZZ993096', 'ZZ96435002', 'ZZ20102625', 'ZZ993778', 'ZZ96606706', 'ZZ2009963', 'ZZ2009185', 'ZZP96425508B', 'ZZ20101994', 'ZZ20097541', 'ZZ994009', 'ZZ87653707', 'ZZ9660051', 'ZZ86100124', 'ZZ993095', 'ZZ993769', 'ZZ965458', 'ZZ96564603', 'ZZ20091432', 'ZZ20091561', 'ZZ965971', 'ZZ86099524', 'ZZ993100', 'ZZ86121924', 'ZZ2009563', 'ZZ993772', 'ZZ96422721B', 'ZZ9932861', 'ZZ9657021', 'ZZ2009517', 'ZZ966015', 'ZZ965976', 'ZZ20087961', 'ZZ20101206', 'ZZ20091551', 'ZZ9660091', 'ZZ9932821', 'ZZ96571701', 'ZZ994073', 'ZZ993098', 'ZZ965963', 'ZZ9940111', 'ZZ994006', 'ZZP908348SA8', 'ZZ9659641', 'ZZ9921665', 'ZZ20097611', 'ZZ994016', 'ZZ965974', 'ZZ994087', 'ZZ2009875', 'ZZ966019', 'ZZ966055', 'ZZ993089', 'ZZ20097651', 'ZZ20098263', 'ZZ9932911', 'ZZ994005', 'ZZ993091', 'ZZ87647706', 'ZZ966044', 'ZZ994018', 'ZZ994012', 'ZZ2010450', 'ZZ993775', 'ZZ96559101', 'ZZ966010', 'ZZ966056', 'ZZ87657604', 'ZZ965418', 'ZZ965970', 'ZZ994165', 'ZZ9658823', 'ZZ994088', 'ZZ2009863', 'ZZ2009257', 'ZZ2009887', 'ZZ965961', 'ZZ992728', 'ZZ20089922', 'ZZ87654012', 'ZZ8032458', 'ZZ965969', 'ZZ86139624', 'ZZ994072', 'ZZ2009602', 'ZZ993093', 'ZZ96458302B', 'ZZ9932881', 'ZZ965414', 'ZZ96603202', 'ZZ994082', 'ZZ87791404', 'ZZ993762', 'ZZ86099724', 'ZZ2010028', 'ZZ2009876', 'ZZ9941417', 'ZZ994117', 'ZZ2008671', 'ZZ20100697', 'ZZ994083', 'ZZ965967', 'ZZ9932831', 'ZZ993777', 'ZZ87774506', 'ZZP2017092C35', 'ZZ86102724', 'ZZ20092011', 'ZZ2008666', 'ZZ994008', 'ZZ965972', 'ZZ20091452', 'ZZ96565506', 'ZZ20100796', 'ZZ20093333', 'ZZ201005220', 'ZZ966012', 'ZZ20100639', 'ZZ96590113', 'ZZ2009258', 'ZZ9932891', 'ZZ966047', 'ZZ994010', 'ZZ80389118', 'ZZ2009961', 'ZZ99414212', 'ZZ993785', 'ZZ2009861', 'ZZ993768', 'ZZ9941733', 'ZZ20099511', 'ZZ8038374', 'ZZ994013', 'ZZ2009279', 'ZZ993090', 'ZZ96468409', 'ZZ994007', 'ZZ96434506C', 'ZZ20100547', 'ZZ96571507', 'ZZ87774412', 'ZZ993099', 'ZZ20086592', 'ZZ966110', 'ZZ2009262', 'ZZP2010226', 'ZZ965459', 'ZZ9933011', 'ZZ2009855', 'ZZ994014', 'ZZP2017092C25', 'ZZ96571406', 'ZZ965968', 'ZZ992727', 'ZZ993097', 'ZZ2010090', 'ZZ9941704', 'ZZ9941716', 'ZZ20100881', 'ZZBP84740948', 'ZZ2009276', 'ZZ20098601', 'ZZ2009020', 'ZZ965975', 'ZZ2010113', 'ZZ9932871', 'ZZ9657241', 'ZZ9932811', 'ZZ9651992', 'ZZ96432904', 'ZZ20096281', 'ZZ993879', 'ZZ9932851', 'ZZ9932791', 'ZZ9932781', 'ZZ87654110', 'ZZ96590216', 'ZZ9932801', 'ZZ9657511', 'ZZ20089241', 'ZZ2009021', 'ZZ96606301', 'ZZ96590014', 'ZZ2009608', 'ZZ9932921', 'ZZ96565609', 'ZZ993770', 'ZZ87775006', 'ZZ965980', 'ZZ96590514', 'ZZ994085', 'ZZ993106', 'ZZP829707C2', 'ZZ2009022', 'ZZPP7422883', 'ZZ2010257', 'ZZP829707B', 'ZZ993094', 'ZZ993643', 'ZZ20102525', 'ZZ87786112', 'ZZ86122024', 'ZZ9932841', 'ZZP2009852SA1', 'ZZ99416220', 'ZZ966057', 'ZZ96606505B', 'ZZ2009873'} \n",
      "\n",
      "Number of requested formulas with no reference data : 7\n",
      "Requested formula ids with no reference data : {'ZZ2088591', 'ZZ2088589', 'ZZ2088590', 'ZZ20885421', 'ZZP2010389B', 'ZZP8039421', 'ZZ2088593'} \n",
      "\n",
      "Number of requested formulas with no history data : 115\n",
      "Requested formula ids with no history data : {'ZZ966176', 'ZZ9933001', 'ZZ2088589', 'ZZ20091733', 'ZZ966182', 'ZZ96614801', 'ZZ2010321', 'ZZ2010415', 'ZZ994403', 'ZZP2010389A', 'ZZ966157', 'ZZP2010389B', 'ZZ2088593', 'ZZPP7533187A', 'ZZ994402', 'ZZ96496803', 'ZZ96603914', 'ZZ96593404', 'ZZ9941446', 'ZZ96497104', 'ZZ993101', 'ZZ994401', 'ZZ9932961', 'ZZ96497204', 'ZZ9941454', 'ZZ96604110', 'ZZ2010376', 'ZZ9943852', 'ZZ966177', 'ZZ2010093', 'ZZ994431', 'ZZ2010400', 'ZZPP7533186B', 'ZZ2010160', 'ZZ96608401', 'ZZ966107', 'ZZ994399', 'ZZ96608603', 'ZZ994430', 'ZZ9941903', 'ZZ2088590', 'ZZ994426', 'ZZP2010190A2', 'ZZ966156', 'ZZ2010374', 'ZZ9941723', 'ZZ9932951', 'ZZP8039421', 'ZZPP7533147C', 'ZZ20104541', 'ZZ9661161', 'ZZPP7533135C', 'ZZ2088592', 'ZZPP7533198B', 'ZZ994167', 'ZZ2010416', 'ZZ2010473', 'ZZ2010480', 'ZZ20885421', 'ZZ994166', 'ZZ993107', 'ZZ2010297', 'ZZ994168', 'ZZ87788202', 'ZZ994429', 'ZZ9941926', 'ZZPP7533183A', 'ZZ9943872', 'ZZ993103', 'ZZPP7533103C', 'ZZ99437712', 'ZZ994398', 'ZZ20100947', 'ZZ96593304', 'ZZ96614316', 'ZZ966060', 'ZZ20101632', 'ZZ96593001', 'ZZ966183', 'ZZ993782', 'ZZ9657262', 'ZZ96496904', 'ZZ96593204', 'ZZ20885696', 'ZZ2010479', 'ZZ993108', 'ZZ966158', 'ZZ20097761', 'ZZ993105', 'ZZ20102295', 'ZZ2088591', 'ZZ993104', 'ZZ96614501', 'ZZ9941436', 'ZZ20091393', 'ZZ96497004', 'ZZ9943845', 'ZZ2010437', 'ZZ96581506', 'ZZ966175', 'ZZ9932991', 'ZZ994427', 'ZZ20100885', 'ZZ96602123', 'ZZ9943861', 'ZZ9943764', 'ZZ994400', 'ZZPP7533148B', 'ZZ966108', 'ZZ966184', 'ZZ2088582', 'ZZ9944171', 'ZZ993102', 'ZZ994428', 'ZZ96593106'} \n",
      "\n"
     ]
    }
   ],
   "source": [
    "check_datafiles(df,requested_formulas_df,reference_df)"
   ]
  },
  {
   "cell_type": "markdown",
   "metadata": {},
   "source": [
    "### 2 - Data Engineering :"
   ]
  },
  {
   "cell_type": "markdown",
   "metadata": {},
   "source": [
    "Selecting the formula IDs that are requested in the requested batches file and are present in both the formulas history file and the formula references file."
   ]
  },
  {
   "cell_type": "code",
   "execution_count": 9,
   "metadata": {},
   "outputs": [],
   "source": [
    "df_aux = filter_history_df(df)\n",
    "df_aux = add_type_column_to_history_df(df_aux , requested_formulas_df)\n",
    "selected_formulas_ids = determine_selected_formulas_ids(df_aux , requested_formulas_df, reference_df )"
   ]
  },
  {
   "cell_type": "code",
   "execution_count": 10,
   "metadata": {},
   "outputs": [
    {
     "name": "stdout",
     "output_type": "stream",
     "text": [
      "162\n"
     ]
    }
   ],
   "source": [
    "print(len(selected_formulas_ids))"
   ]
  },
  {
   "cell_type": "markdown",
   "metadata": {},
   "source": [
    "### 3 - Create / Upload factory object :"
   ]
  },
  {
   "cell_type": "code",
   "execution_count": 11,
   "metadata": {},
   "outputs": [],
   "source": [
    "factory_file_name = \"factory.pkl\""
   ]
  },
  {
   "cell_type": "markdown",
   "metadata": {},
   "source": [
    "Creating the Factory object and saving it as a pickle file in the specified temporary folder."
   ]
  },
  {
   "cell_type": "code",
   "execution_count": 12,
   "metadata": {},
   "outputs": [
    {
     "name": "stderr",
     "output_type": "stream",
     "text": [
      "Processing formulas: 100%|██████████| 387/387 [00:35<00:00, 10.87it/s]\n"
     ]
    },
    {
     "name": "stdout",
     "output_type": "stream",
     "text": [
      "File replaced: factory.pkl\n"
     ]
    }
   ],
   "source": [
    "factory = create_factory(df_aux,temp_files_path ,factory_file_name)\n"
   ]
  },
  {
   "cell_type": "markdown",
   "metadata": {},
   "source": [
    "Loading the Factory object from the spcified pickle file."
   ]
  },
  {
   "cell_type": "code",
   "execution_count": 13,
   "metadata": {},
   "outputs": [],
   "source": [
    "#factory = upload_factory(temp_files_path , factory_file_name)"
   ]
  },
  {
   "cell_type": "markdown",
   "metadata": {},
   "source": [
    "### 4 - Data Analysis :"
   ]
  },
  {
   "cell_type": "markdown",
   "metadata": {},
   "source": [
    "Select formula IDs based on various criteria, such as high and low coefficient of variation (CV), whether they have been adjusted, and if they have non-unique raw material compositions.\n"
   ]
  },
  {
   "cell_type": "code",
   "execution_count": 14,
   "metadata": {},
   "outputs": [],
   "source": [
    "formulas_ids_with_high_cv = factory.select_formulas_of_cv_higher_than_threshold(0.175)\n",
    "formulas_ids_with_low_cv = factory.select_formulas_of_cv_lower_equal_than_threshold(0.2)\n",
    "adjusted_fomulas_ids_list = factory.get_adjusted_formulas_ids()\n",
    "no_unique_raw_material_composition_formulas_ids_list = factory.get_no_unique_raw_material_composition_formulas_ids()"
   ]
  },
  {
   "cell_type": "markdown",
   "metadata": {},
   "source": [
    "Generate plots for the selected formulas and display them in the notebook."
   ]
  },
  {
   "cell_type": "code",
   "execution_count": 15,
   "metadata": {},
   "outputs": [
    {
     "data": {
      "application/vnd.plotly.v1+json": {
       "config": {
        "plotlyServerURL": "https://plot.ly"
       },
       "data": [
        {
         "name": "47331",
         "type": "bar",
         "x": [
          400001970163,
          400001974359,
          400001989802,
          400002016364,
          400002024965,
          400002031012,
          400002046765
         ],
         "xaxis": "x",
         "y": [
          0.08007625441613121,
          0.07941381706965601,
          0.08001945845383614,
          0.07997734374553973,
          0.08000463004303106,
          0.08003078716777676,
          0.08006006757448517
         ],
         "yaxis": "y"
        },
        {
         "name": "52132",
         "type": "bar",
         "x": [
          400001970163,
          400001974359,
          400001989802,
          400002016364,
          400002024965,
          400002031012,
          400002046765
         ],
         "xaxis": "x",
         "y": [
          0.19971279014262544,
          0.19843512627820908,
          0.20015354174629196,
          0.19994425197211707,
          0.20029720391887013,
          0.20025892426638317,
          0.20041005898596745
         ],
         "yaxis": "y"
        },
        {
         "name": "53166",
         "type": "bar",
         "x": [
          400001970163,
          400001974359,
          400001989802,
          400002016364,
          400002024965,
          400002031012,
          400002046765
         ],
         "xaxis": "x",
         "y": [
          9.521191157962376,
          9.454499253034912,
          9.482835753960776,
          9.493781535604631,
          9.48644689505237,
          9.49404364167202,
          9.5014373241529
         ],
         "yaxis": "y"
        },
        {
         "name": "53485",
         "type": "bar",
         "x": [
          400001970163,
          400001974359,
          400001989802,
          400002016364,
          400002024965,
          400002031012,
          400002046765
         ],
         "xaxis": "x",
         "y": [
          2.8016953493711423,
          3.0588635532831625,
          2.8003949669432604,
          2.7992195276096394,
          2.803446782835951,
          2.799742691413653,
          2.8021684539856127
         ],
         "yaxis": "y"
        },
        {
         "name": "75188",
         "type": "bar",
         "x": [
          400001970163,
          400001974359,
          400001989802,
          400002016364,
          400002024965,
          400002031012,
          400002046765
         ],
         "xaxis": "x",
         "y": [
          3.0014081395137677,
          2.981557363807243,
          2.9988338514177544,
          3.00309125595978,
          2.9951751224160454,
          2.999009895886348,
          3.000435089880821
         ],
         "yaxis": "y"
        },
        {
         "name": "75323",
         "type": "bar",
         "x": [
          400001970163,
          400001974359,
          400001989802,
          400002016364,
          400002024965,
          400002031012,
          400002046765
         ],
         "xaxis": "x",
         "y": [
          9.01422792144648,
          8.937533994193886,
          8.982878747538766,
          8.990350472603408,
          8.985168331234021,
          9.007800887900812,
          9.013808571005224
         ],
         "yaxis": "y"
        },
        {
         "name": "77483",
         "type": "bar",
         "x": [
          400001970163,
          400001974359,
          400001989802,
          400002016364,
          400002024965,
          400002031012,
          400002046765
         ],
         "xaxis": "x",
         "y": [
          4.1085815503402365,
          4.069480926119402,
          4.092291137034646,
          4.096714905585841,
          4.096631225962774,
          4.098441691992451,
          4.100011135440194
         ],
         "yaxis": "y"
        },
        {
         "name": "77900",
         "type": "bar",
         "x": [
          400001970163,
          400001974359,
          400001989802,
          400002016364,
          400002024965,
          400002031012,
          400002046765
         ],
         "xaxis": "x",
         "y": [
          9.091020883301947,
          9.046892029717949,
          9.094131669040486,
          9.083181732447605,
          9.09977689176514,
          9.103202947185036,
          9.098831020271998
         ],
         "yaxis": "y"
        },
        {
         "name": "80210",
         "type": "bar",
         "x": [
          400001970163,
          400001974359,
          400001989802,
          400002016364,
          400002024965,
          400002031012,
          400002046765
         ],
         "xaxis": "x",
         "y": [
          2.805982564901932,
          3.0609314143185262,
          2.7958540313717615,
          2.803861090601849,
          2.795949026539523,
          2.798973319967813,
          2.804669114258165
         ],
         "yaxis": "y"
        },
        {
         "name": "80910",
         "type": "bar",
         "x": [
          400001970163,
          400001974359,
          400001989802,
          400002016364,
          400002024965,
          400002031012,
          400002046765
         ],
         "xaxis": "x",
         "y": [
          1.000350290517623,
          0.9933288615838446,
          0.9985517321725683,
          1.0004353464747717,
          0.9979156594531944,
          0.9994135081468357,
          0.9995496346572852
         ],
         "yaxis": "y"
        },
        {
         "name": "80952",
         "type": "bar",
         "x": [
          400001970163,
          400001974359,
          400001989802,
          400002016364,
          400002024965,
          400002031012,
          400002046765
         ],
         "xaxis": "x",
         "y": [
          0.10999315892590432,
          0.10929838568650453,
          0.10996647445431304,
          0.10999433161616091,
          0.1097528707391456,
          0.10995856703952714,
          0.11001476250502412
         ],
         "yaxis": "y"
        },
        {
         "name": "ZZP906785A",
         "type": "bar",
         "x": [
          400001970163,
          400001974359,
          400001989802,
          400002016364,
          400002024965,
          400002031012,
          400002046765
         ],
         "xaxis": "x",
         "y": [
          52.66522738410475,
          52.44214885358481,
          52.68075584562809,
          52.73886689071682,
          52.75564144572594,
          52.70656026875068,
          52.68533957085647
         ],
         "yaxis": "y"
        },
        {
         "name": "ZZPPT7182825",
         "type": "bar",
         "x": [
          400001970163,
          400001974359,
          400001989802,
          400002016364,
          400002024965,
          400002031012,
          400002046765
         ],
         "xaxis": "x",
         "y": [
          0.5262557064044495,
          0.5218068373228637,
          0.5763682374707323,
          0.5248536614268073,
          0.5259140487923275,
          0.5254806975090753,
          0.5254958944177507
         ],
         "yaxis": "y"
        },
        {
         "name": "ZZPPT7182883",
         "type": "bar",
         "x": [
          400001970163,
          400001974359,
          400001989802,
          400002016364,
          400002024965,
          400002031012,
          400002046765
         ],
         "xaxis": "x",
         "y": [
          2.679866974704532,
          2.6672723113506787,
          2.6818765485271436,
          2.6831804528043928,
          2.6759849257966697,
          2.6804901173083726,
          2.6849946583574535
         ],
         "yaxis": "y"
        },
        {
         "name": "ZZPPT7182885",
         "type": "bar",
         "x": [
          400001970163,
          400001974359,
          400001989802,
          400002016364,
          400002024965,
          400002031012,
          400002046765
         ],
         "xaxis": "x",
         "y": [
          1.2089947796827272,
          1.2025307835413774,
          1.2087970491329592,
          1.2089486378171224,
          1.2078528357531866,
          1.2109906557529788,
          1.2096050975516681
         ],
         "yaxis": "y"
        },
        {
         "name": "ZZPPT7182886",
         "type": "bar",
         "x": [
          400001970163,
          400001974359,
          400001989802,
          400002016364,
          400002024965,
          400002031012,
          400002046765
         ],
         "xaxis": "x",
         "y": [
          0.6788091257083869,
          0.6730191755338637,
          0.710430732441646,
          0.6773111535555466,
          0.6769402827632403,
          0.6785856152313389,
          0.6766072223162609
         ],
         "yaxis": "y"
        },
        {
         "name": "ZZPPT7182887",
         "type": "bar",
         "x": [
          400001970163,
          400001974359,
          400001989802,
          400002016364,
          400002024965,
          400002031012,
          400002046765
         ],
         "xaxis": "x",
         "y": [
          0.5066059685549962,
          0.5029873135731318,
          0.5058602226649573,
          0.5062874094579679,
          0.5071018212085747,
          0.5070157828089028,
          0.5065623237827128
         ],
         "yaxis": "y"
        },
        {
         "name": "Count of adjustements",
         "type": "bar",
         "x": [
          400001970163,
          400001974359,
          400001989802,
          400002016364,
          400002024965,
          400002031012,
          400002046765
         ],
         "xaxis": "x2",
         "y": [
          0,
          2,
          3,
          0,
          0,
          0,
          0
         ],
         "yaxis": "y2"
        }
       ],
       "layout": {
        "annotations": [
         {
          "font": {
           "size": 16
          },
          "showarrow": false,
          "text": "Relative percentage of each MP",
          "x": 0.225,
          "xanchor": "center",
          "xref": "paper",
          "y": 1,
          "yanchor": "bottom",
          "yref": "paper"
         },
         {
          "font": {
           "size": 16
          },
          "showarrow": false,
          "text": "Number of adjustements applied",
          "x": 0.775,
          "xanchor": "center",
          "xref": "paper",
          "y": 1,
          "yanchor": "bottom",
          "yref": "paper"
         }
        ],
        "barmode": "stack",
        "height": 500,
        "legend": {
         "title": {
          "text": "ComponentProductNo"
         }
        },
        "template": {
         "data": {
          "bar": [
           {
            "error_x": {
             "color": "#2a3f5f"
            },
            "error_y": {
             "color": "#2a3f5f"
            },
            "marker": {
             "line": {
              "color": "#E5ECF6",
              "width": 0.5
             },
             "pattern": {
              "fillmode": "overlay",
              "size": 10,
              "solidity": 0.2
             }
            },
            "type": "bar"
           }
          ],
          "barpolar": [
           {
            "marker": {
             "line": {
              "color": "#E5ECF6",
              "width": 0.5
             },
             "pattern": {
              "fillmode": "overlay",
              "size": 10,
              "solidity": 0.2
             }
            },
            "type": "barpolar"
           }
          ],
          "carpet": [
           {
            "aaxis": {
             "endlinecolor": "#2a3f5f",
             "gridcolor": "white",
             "linecolor": "white",
             "minorgridcolor": "white",
             "startlinecolor": "#2a3f5f"
            },
            "baxis": {
             "endlinecolor": "#2a3f5f",
             "gridcolor": "white",
             "linecolor": "white",
             "minorgridcolor": "white",
             "startlinecolor": "#2a3f5f"
            },
            "type": "carpet"
           }
          ],
          "choropleth": [
           {
            "colorbar": {
             "outlinewidth": 0,
             "ticks": ""
            },
            "type": "choropleth"
           }
          ],
          "contour": [
           {
            "colorbar": {
             "outlinewidth": 0,
             "ticks": ""
            },
            "colorscale": [
             [
              0,
              "#0d0887"
             ],
             [
              0.1111111111111111,
              "#46039f"
             ],
             [
              0.2222222222222222,
              "#7201a8"
             ],
             [
              0.3333333333333333,
              "#9c179e"
             ],
             [
              0.4444444444444444,
              "#bd3786"
             ],
             [
              0.5555555555555556,
              "#d8576b"
             ],
             [
              0.6666666666666666,
              "#ed7953"
             ],
             [
              0.7777777777777778,
              "#fb9f3a"
             ],
             [
              0.8888888888888888,
              "#fdca26"
             ],
             [
              1,
              "#f0f921"
             ]
            ],
            "type": "contour"
           }
          ],
          "contourcarpet": [
           {
            "colorbar": {
             "outlinewidth": 0,
             "ticks": ""
            },
            "type": "contourcarpet"
           }
          ],
          "heatmap": [
           {
            "colorbar": {
             "outlinewidth": 0,
             "ticks": ""
            },
            "colorscale": [
             [
              0,
              "#0d0887"
             ],
             [
              0.1111111111111111,
              "#46039f"
             ],
             [
              0.2222222222222222,
              "#7201a8"
             ],
             [
              0.3333333333333333,
              "#9c179e"
             ],
             [
              0.4444444444444444,
              "#bd3786"
             ],
             [
              0.5555555555555556,
              "#d8576b"
             ],
             [
              0.6666666666666666,
              "#ed7953"
             ],
             [
              0.7777777777777778,
              "#fb9f3a"
             ],
             [
              0.8888888888888888,
              "#fdca26"
             ],
             [
              1,
              "#f0f921"
             ]
            ],
            "type": "heatmap"
           }
          ],
          "heatmapgl": [
           {
            "colorbar": {
             "outlinewidth": 0,
             "ticks": ""
            },
            "colorscale": [
             [
              0,
              "#0d0887"
             ],
             [
              0.1111111111111111,
              "#46039f"
             ],
             [
              0.2222222222222222,
              "#7201a8"
             ],
             [
              0.3333333333333333,
              "#9c179e"
             ],
             [
              0.4444444444444444,
              "#bd3786"
             ],
             [
              0.5555555555555556,
              "#d8576b"
             ],
             [
              0.6666666666666666,
              "#ed7953"
             ],
             [
              0.7777777777777778,
              "#fb9f3a"
             ],
             [
              0.8888888888888888,
              "#fdca26"
             ],
             [
              1,
              "#f0f921"
             ]
            ],
            "type": "heatmapgl"
           }
          ],
          "histogram": [
           {
            "marker": {
             "pattern": {
              "fillmode": "overlay",
              "size": 10,
              "solidity": 0.2
             }
            },
            "type": "histogram"
           }
          ],
          "histogram2d": [
           {
            "colorbar": {
             "outlinewidth": 0,
             "ticks": ""
            },
            "colorscale": [
             [
              0,
              "#0d0887"
             ],
             [
              0.1111111111111111,
              "#46039f"
             ],
             [
              0.2222222222222222,
              "#7201a8"
             ],
             [
              0.3333333333333333,
              "#9c179e"
             ],
             [
              0.4444444444444444,
              "#bd3786"
             ],
             [
              0.5555555555555556,
              "#d8576b"
             ],
             [
              0.6666666666666666,
              "#ed7953"
             ],
             [
              0.7777777777777778,
              "#fb9f3a"
             ],
             [
              0.8888888888888888,
              "#fdca26"
             ],
             [
              1,
              "#f0f921"
             ]
            ],
            "type": "histogram2d"
           }
          ],
          "histogram2dcontour": [
           {
            "colorbar": {
             "outlinewidth": 0,
             "ticks": ""
            },
            "colorscale": [
             [
              0,
              "#0d0887"
             ],
             [
              0.1111111111111111,
              "#46039f"
             ],
             [
              0.2222222222222222,
              "#7201a8"
             ],
             [
              0.3333333333333333,
              "#9c179e"
             ],
             [
              0.4444444444444444,
              "#bd3786"
             ],
             [
              0.5555555555555556,
              "#d8576b"
             ],
             [
              0.6666666666666666,
              "#ed7953"
             ],
             [
              0.7777777777777778,
              "#fb9f3a"
             ],
             [
              0.8888888888888888,
              "#fdca26"
             ],
             [
              1,
              "#f0f921"
             ]
            ],
            "type": "histogram2dcontour"
           }
          ],
          "mesh3d": [
           {
            "colorbar": {
             "outlinewidth": 0,
             "ticks": ""
            },
            "type": "mesh3d"
           }
          ],
          "parcoords": [
           {
            "line": {
             "colorbar": {
              "outlinewidth": 0,
              "ticks": ""
             }
            },
            "type": "parcoords"
           }
          ],
          "pie": [
           {
            "automargin": true,
            "type": "pie"
           }
          ],
          "scatter": [
           {
            "fillpattern": {
             "fillmode": "overlay",
             "size": 10,
             "solidity": 0.2
            },
            "type": "scatter"
           }
          ],
          "scatter3d": [
           {
            "line": {
             "colorbar": {
              "outlinewidth": 0,
              "ticks": ""
             }
            },
            "marker": {
             "colorbar": {
              "outlinewidth": 0,
              "ticks": ""
             }
            },
            "type": "scatter3d"
           }
          ],
          "scattercarpet": [
           {
            "marker": {
             "colorbar": {
              "outlinewidth": 0,
              "ticks": ""
             }
            },
            "type": "scattercarpet"
           }
          ],
          "scattergeo": [
           {
            "marker": {
             "colorbar": {
              "outlinewidth": 0,
              "ticks": ""
             }
            },
            "type": "scattergeo"
           }
          ],
          "scattergl": [
           {
            "marker": {
             "colorbar": {
              "outlinewidth": 0,
              "ticks": ""
             }
            },
            "type": "scattergl"
           }
          ],
          "scattermapbox": [
           {
            "marker": {
             "colorbar": {
              "outlinewidth": 0,
              "ticks": ""
             }
            },
            "type": "scattermapbox"
           }
          ],
          "scatterpolar": [
           {
            "marker": {
             "colorbar": {
              "outlinewidth": 0,
              "ticks": ""
             }
            },
            "type": "scatterpolar"
           }
          ],
          "scatterpolargl": [
           {
            "marker": {
             "colorbar": {
              "outlinewidth": 0,
              "ticks": ""
             }
            },
            "type": "scatterpolargl"
           }
          ],
          "scatterternary": [
           {
            "marker": {
             "colorbar": {
              "outlinewidth": 0,
              "ticks": ""
             }
            },
            "type": "scatterternary"
           }
          ],
          "surface": [
           {
            "colorbar": {
             "outlinewidth": 0,
             "ticks": ""
            },
            "colorscale": [
             [
              0,
              "#0d0887"
             ],
             [
              0.1111111111111111,
              "#46039f"
             ],
             [
              0.2222222222222222,
              "#7201a8"
             ],
             [
              0.3333333333333333,
              "#9c179e"
             ],
             [
              0.4444444444444444,
              "#bd3786"
             ],
             [
              0.5555555555555556,
              "#d8576b"
             ],
             [
              0.6666666666666666,
              "#ed7953"
             ],
             [
              0.7777777777777778,
              "#fb9f3a"
             ],
             [
              0.8888888888888888,
              "#fdca26"
             ],
             [
              1,
              "#f0f921"
             ]
            ],
            "type": "surface"
           }
          ],
          "table": [
           {
            "cells": {
             "fill": {
              "color": "#EBF0F8"
             },
             "line": {
              "color": "white"
             }
            },
            "header": {
             "fill": {
              "color": "#C8D4E3"
             },
             "line": {
              "color": "white"
             }
            },
            "type": "table"
           }
          ]
         },
         "layout": {
          "annotationdefaults": {
           "arrowcolor": "#2a3f5f",
           "arrowhead": 0,
           "arrowwidth": 1
          },
          "autotypenumbers": "strict",
          "coloraxis": {
           "colorbar": {
            "outlinewidth": 0,
            "ticks": ""
           }
          },
          "colorscale": {
           "diverging": [
            [
             0,
             "#8e0152"
            ],
            [
             0.1,
             "#c51b7d"
            ],
            [
             0.2,
             "#de77ae"
            ],
            [
             0.3,
             "#f1b6da"
            ],
            [
             0.4,
             "#fde0ef"
            ],
            [
             0.5,
             "#f7f7f7"
            ],
            [
             0.6,
             "#e6f5d0"
            ],
            [
             0.7,
             "#b8e186"
            ],
            [
             0.8,
             "#7fbc41"
            ],
            [
             0.9,
             "#4d9221"
            ],
            [
             1,
             "#276419"
            ]
           ],
           "sequential": [
            [
             0,
             "#0d0887"
            ],
            [
             0.1111111111111111,
             "#46039f"
            ],
            [
             0.2222222222222222,
             "#7201a8"
            ],
            [
             0.3333333333333333,
             "#9c179e"
            ],
            [
             0.4444444444444444,
             "#bd3786"
            ],
            [
             0.5555555555555556,
             "#d8576b"
            ],
            [
             0.6666666666666666,
             "#ed7953"
            ],
            [
             0.7777777777777778,
             "#fb9f3a"
            ],
            [
             0.8888888888888888,
             "#fdca26"
            ],
            [
             1,
             "#f0f921"
            ]
           ],
           "sequentialminus": [
            [
             0,
             "#0d0887"
            ],
            [
             0.1111111111111111,
             "#46039f"
            ],
            [
             0.2222222222222222,
             "#7201a8"
            ],
            [
             0.3333333333333333,
             "#9c179e"
            ],
            [
             0.4444444444444444,
             "#bd3786"
            ],
            [
             0.5555555555555556,
             "#d8576b"
            ],
            [
             0.6666666666666666,
             "#ed7953"
            ],
            [
             0.7777777777777778,
             "#fb9f3a"
            ],
            [
             0.8888888888888888,
             "#fdca26"
            ],
            [
             1,
             "#f0f921"
            ]
           ]
          },
          "colorway": [
           "#636efa",
           "#EF553B",
           "#00cc96",
           "#ab63fa",
           "#FFA15A",
           "#19d3f3",
           "#FF6692",
           "#B6E880",
           "#FF97FF",
           "#FECB52"
          ],
          "font": {
           "color": "#2a3f5f"
          },
          "geo": {
           "bgcolor": "white",
           "lakecolor": "white",
           "landcolor": "#E5ECF6",
           "showlakes": true,
           "showland": true,
           "subunitcolor": "white"
          },
          "hoverlabel": {
           "align": "left"
          },
          "hovermode": "closest",
          "mapbox": {
           "style": "light"
          },
          "paper_bgcolor": "white",
          "plot_bgcolor": "#E5ECF6",
          "polar": {
           "angularaxis": {
            "gridcolor": "white",
            "linecolor": "white",
            "ticks": ""
           },
           "bgcolor": "#E5ECF6",
           "radialaxis": {
            "gridcolor": "white",
            "linecolor": "white",
            "ticks": ""
           }
          },
          "scene": {
           "xaxis": {
            "backgroundcolor": "#E5ECF6",
            "gridcolor": "white",
            "gridwidth": 2,
            "linecolor": "white",
            "showbackground": true,
            "ticks": "",
            "zerolinecolor": "white"
           },
           "yaxis": {
            "backgroundcolor": "#E5ECF6",
            "gridcolor": "white",
            "gridwidth": 2,
            "linecolor": "white",
            "showbackground": true,
            "ticks": "",
            "zerolinecolor": "white"
           },
           "zaxis": {
            "backgroundcolor": "#E5ECF6",
            "gridcolor": "white",
            "gridwidth": 2,
            "linecolor": "white",
            "showbackground": true,
            "ticks": "",
            "zerolinecolor": "white"
           }
          },
          "shapedefaults": {
           "line": {
            "color": "#2a3f5f"
           }
          },
          "ternary": {
           "aaxis": {
            "gridcolor": "white",
            "linecolor": "white",
            "ticks": ""
           },
           "baxis": {
            "gridcolor": "white",
            "linecolor": "white",
            "ticks": ""
           },
           "bgcolor": "#E5ECF6",
           "caxis": {
            "gridcolor": "white",
            "linecolor": "white",
            "ticks": ""
           }
          },
          "title": {
           "x": 0.05
          },
          "xaxis": {
           "automargin": true,
           "gridcolor": "white",
           "linecolor": "white",
           "ticks": "",
           "title": {
            "standoff": 15
           },
           "zerolinecolor": "white",
           "zerolinewidth": 2
          },
          "yaxis": {
           "automargin": true,
           "gridcolor": "white",
           "linecolor": "white",
           "ticks": "",
           "title": {
            "standoff": 15
           },
           "zerolinecolor": "white",
           "zerolinewidth": 2
          }
         }
        },
        "title": {
         "text": "Relative percentage of MP adjusted in orders for ZZ965978 \n Percentage of adjusted orders : 28.57 %"
        },
        "width": 1000,
        "xaxis": {
         "anchor": "y",
         "categoryarray": [
          400001970163,
          400001974359,
          400001989802,
          400002016364,
          400002024965,
          400002031012,
          400002046765
         ],
         "categoryorder": "array",
         "domain": [
          0,
          0.45
         ],
         "title": {
          "text": "WipOrderNo"
         },
         "type": "category"
        },
        "xaxis2": {
         "anchor": "y2",
         "categoryarray": [
          400001970163,
          400001974359,
          400001989802,
          400002016364,
          400002024965,
          400002031012,
          400002046765
         ],
         "categoryorder": "array",
         "domain": [
          0.55,
          1
         ],
         "title": {
          "text": "WipOrderNo"
         },
         "type": "category"
        },
        "yaxis": {
         "anchor": "x",
         "domain": [
          0,
          1
         ]
        },
        "yaxis2": {
         "anchor": "x2",
         "domain": [
          0,
          1
         ]
        }
       }
      }
     },
     "metadata": {},
     "output_type": "display_data"
    },
    {
     "data": {
      "application/vnd.plotly.v1+json": {
       "config": {
        "plotlyServerURL": "https://plot.ly"
       },
       "data": [
        {
         "name": "54632",
         "type": "bar",
         "x": [
          400001894436,
          400001926292,
          400001926293
         ],
         "xaxis": "x",
         "y": [
          4.996951859365787,
          4.993551794973901,
          5.0033304042738225
         ],
         "yaxis": "y"
        },
        {
         "name": "71497",
         "type": "bar",
         "x": [
          400001894436,
          400001926292,
          400001926293
         ],
         "xaxis": "x",
         "y": [
          5.003614461844941,
          5.004461694207344,
          4.994243353049206
         ],
         "yaxis": "y"
        },
        {
         "name": "71868",
         "type": "bar",
         "x": [
          400001894436,
          400001926292,
          400001926293
         ],
         "xaxis": "x",
         "y": [
          0.5002281941349109,
          0.500355253593789,
          0.4999695583783975
         ],
         "yaxis": "y"
        },
        {
         "name": "71879",
         "type": "bar",
         "x": [
          400001894436,
          400001926292,
          400001926293
         ],
         "xaxis": "x",
         "y": [
          5.003614461844941,
          4.994460953243355,
          4.9951520581716675
         ],
         "yaxis": "y"
        },
        {
         "name": "74174",
         "type": "bar",
         "x": [
          400001894436,
          400001926292,
          400001926293
         ],
         "xaxis": "x",
         "y": [
          10.013891526169036,
          10.001650122259058,
          9.989395411220872
         ],
         "yaxis": "y"
        },
        {
         "name": "79066",
         "type": "bar",
         "x": [
          400001894436,
          400001926292,
          400001926293
         ],
         "xaxis": "x",
         "y": [
          4.996951859365787,
          5.007189169015704,
          4.997878173539052
         ],
         "yaxis": "y"
        },
        {
         "name": "79721",
         "type": "bar",
         "x": [
          400001894436,
          400001926292,
          400001926293
         ],
         "xaxis": "x",
         "y": [
          30.015823680887987,
          30.01676942428007,
          30.000899618071237
         ],
         "yaxis": "y"
        },
        {
         "name": "82L",
         "type": "bar",
         "x": [
          400001894436,
          400001926292,
          400001926293
         ],
         "xaxis": "x",
         "y": [
          35.47136246889397,
          35.488993048121294,
          35.51537665372974
         ],
         "yaxis": "y"
        },
        {
         "name": "934",
         "type": "bar",
         "x": [
          400001894436,
          400001926292,
          400001926293
         ],
         "xaxis": "x",
         "y": [
          3.997561487492629,
          3.9925685403054865,
          4.003754769566012
         ],
         "yaxis": "y"
        },
        {
         "name": "Count of adjustements",
         "type": "bar",
         "x": [
          400001894436,
          400001926292,
          400001926293
         ],
         "xaxis": "x2",
         "y": [
          0,
          0,
          0
         ],
         "yaxis": "y2"
        }
       ],
       "layout": {
        "annotations": [
         {
          "font": {
           "size": 16
          },
          "showarrow": false,
          "text": "Relative percentage of each MP",
          "x": 0.225,
          "xanchor": "center",
          "xref": "paper",
          "y": 1,
          "yanchor": "bottom",
          "yref": "paper"
         },
         {
          "font": {
           "size": 16
          },
          "showarrow": false,
          "text": "Number of adjustements applied",
          "x": 0.775,
          "xanchor": "center",
          "xref": "paper",
          "y": 1,
          "yanchor": "bottom",
          "yref": "paper"
         }
        ],
        "barmode": "stack",
        "height": 500,
        "legend": {
         "title": {
          "text": "ComponentProductNo"
         }
        },
        "template": {
         "data": {
          "bar": [
           {
            "error_x": {
             "color": "#2a3f5f"
            },
            "error_y": {
             "color": "#2a3f5f"
            },
            "marker": {
             "line": {
              "color": "#E5ECF6",
              "width": 0.5
             },
             "pattern": {
              "fillmode": "overlay",
              "size": 10,
              "solidity": 0.2
             }
            },
            "type": "bar"
           }
          ],
          "barpolar": [
           {
            "marker": {
             "line": {
              "color": "#E5ECF6",
              "width": 0.5
             },
             "pattern": {
              "fillmode": "overlay",
              "size": 10,
              "solidity": 0.2
             }
            },
            "type": "barpolar"
           }
          ],
          "carpet": [
           {
            "aaxis": {
             "endlinecolor": "#2a3f5f",
             "gridcolor": "white",
             "linecolor": "white",
             "minorgridcolor": "white",
             "startlinecolor": "#2a3f5f"
            },
            "baxis": {
             "endlinecolor": "#2a3f5f",
             "gridcolor": "white",
             "linecolor": "white",
             "minorgridcolor": "white",
             "startlinecolor": "#2a3f5f"
            },
            "type": "carpet"
           }
          ],
          "choropleth": [
           {
            "colorbar": {
             "outlinewidth": 0,
             "ticks": ""
            },
            "type": "choropleth"
           }
          ],
          "contour": [
           {
            "colorbar": {
             "outlinewidth": 0,
             "ticks": ""
            },
            "colorscale": [
             [
              0,
              "#0d0887"
             ],
             [
              0.1111111111111111,
              "#46039f"
             ],
             [
              0.2222222222222222,
              "#7201a8"
             ],
             [
              0.3333333333333333,
              "#9c179e"
             ],
             [
              0.4444444444444444,
              "#bd3786"
             ],
             [
              0.5555555555555556,
              "#d8576b"
             ],
             [
              0.6666666666666666,
              "#ed7953"
             ],
             [
              0.7777777777777778,
              "#fb9f3a"
             ],
             [
              0.8888888888888888,
              "#fdca26"
             ],
             [
              1,
              "#f0f921"
             ]
            ],
            "type": "contour"
           }
          ],
          "contourcarpet": [
           {
            "colorbar": {
             "outlinewidth": 0,
             "ticks": ""
            },
            "type": "contourcarpet"
           }
          ],
          "heatmap": [
           {
            "colorbar": {
             "outlinewidth": 0,
             "ticks": ""
            },
            "colorscale": [
             [
              0,
              "#0d0887"
             ],
             [
              0.1111111111111111,
              "#46039f"
             ],
             [
              0.2222222222222222,
              "#7201a8"
             ],
             [
              0.3333333333333333,
              "#9c179e"
             ],
             [
              0.4444444444444444,
              "#bd3786"
             ],
             [
              0.5555555555555556,
              "#d8576b"
             ],
             [
              0.6666666666666666,
              "#ed7953"
             ],
             [
              0.7777777777777778,
              "#fb9f3a"
             ],
             [
              0.8888888888888888,
              "#fdca26"
             ],
             [
              1,
              "#f0f921"
             ]
            ],
            "type": "heatmap"
           }
          ],
          "heatmapgl": [
           {
            "colorbar": {
             "outlinewidth": 0,
             "ticks": ""
            },
            "colorscale": [
             [
              0,
              "#0d0887"
             ],
             [
              0.1111111111111111,
              "#46039f"
             ],
             [
              0.2222222222222222,
              "#7201a8"
             ],
             [
              0.3333333333333333,
              "#9c179e"
             ],
             [
              0.4444444444444444,
              "#bd3786"
             ],
             [
              0.5555555555555556,
              "#d8576b"
             ],
             [
              0.6666666666666666,
              "#ed7953"
             ],
             [
              0.7777777777777778,
              "#fb9f3a"
             ],
             [
              0.8888888888888888,
              "#fdca26"
             ],
             [
              1,
              "#f0f921"
             ]
            ],
            "type": "heatmapgl"
           }
          ],
          "histogram": [
           {
            "marker": {
             "pattern": {
              "fillmode": "overlay",
              "size": 10,
              "solidity": 0.2
             }
            },
            "type": "histogram"
           }
          ],
          "histogram2d": [
           {
            "colorbar": {
             "outlinewidth": 0,
             "ticks": ""
            },
            "colorscale": [
             [
              0,
              "#0d0887"
             ],
             [
              0.1111111111111111,
              "#46039f"
             ],
             [
              0.2222222222222222,
              "#7201a8"
             ],
             [
              0.3333333333333333,
              "#9c179e"
             ],
             [
              0.4444444444444444,
              "#bd3786"
             ],
             [
              0.5555555555555556,
              "#d8576b"
             ],
             [
              0.6666666666666666,
              "#ed7953"
             ],
             [
              0.7777777777777778,
              "#fb9f3a"
             ],
             [
              0.8888888888888888,
              "#fdca26"
             ],
             [
              1,
              "#f0f921"
             ]
            ],
            "type": "histogram2d"
           }
          ],
          "histogram2dcontour": [
           {
            "colorbar": {
             "outlinewidth": 0,
             "ticks": ""
            },
            "colorscale": [
             [
              0,
              "#0d0887"
             ],
             [
              0.1111111111111111,
              "#46039f"
             ],
             [
              0.2222222222222222,
              "#7201a8"
             ],
             [
              0.3333333333333333,
              "#9c179e"
             ],
             [
              0.4444444444444444,
              "#bd3786"
             ],
             [
              0.5555555555555556,
              "#d8576b"
             ],
             [
              0.6666666666666666,
              "#ed7953"
             ],
             [
              0.7777777777777778,
              "#fb9f3a"
             ],
             [
              0.8888888888888888,
              "#fdca26"
             ],
             [
              1,
              "#f0f921"
             ]
            ],
            "type": "histogram2dcontour"
           }
          ],
          "mesh3d": [
           {
            "colorbar": {
             "outlinewidth": 0,
             "ticks": ""
            },
            "type": "mesh3d"
           }
          ],
          "parcoords": [
           {
            "line": {
             "colorbar": {
              "outlinewidth": 0,
              "ticks": ""
             }
            },
            "type": "parcoords"
           }
          ],
          "pie": [
           {
            "automargin": true,
            "type": "pie"
           }
          ],
          "scatter": [
           {
            "fillpattern": {
             "fillmode": "overlay",
             "size": 10,
             "solidity": 0.2
            },
            "type": "scatter"
           }
          ],
          "scatter3d": [
           {
            "line": {
             "colorbar": {
              "outlinewidth": 0,
              "ticks": ""
             }
            },
            "marker": {
             "colorbar": {
              "outlinewidth": 0,
              "ticks": ""
             }
            },
            "type": "scatter3d"
           }
          ],
          "scattercarpet": [
           {
            "marker": {
             "colorbar": {
              "outlinewidth": 0,
              "ticks": ""
             }
            },
            "type": "scattercarpet"
           }
          ],
          "scattergeo": [
           {
            "marker": {
             "colorbar": {
              "outlinewidth": 0,
              "ticks": ""
             }
            },
            "type": "scattergeo"
           }
          ],
          "scattergl": [
           {
            "marker": {
             "colorbar": {
              "outlinewidth": 0,
              "ticks": ""
             }
            },
            "type": "scattergl"
           }
          ],
          "scattermapbox": [
           {
            "marker": {
             "colorbar": {
              "outlinewidth": 0,
              "ticks": ""
             }
            },
            "type": "scattermapbox"
           }
          ],
          "scatterpolar": [
           {
            "marker": {
             "colorbar": {
              "outlinewidth": 0,
              "ticks": ""
             }
            },
            "type": "scatterpolar"
           }
          ],
          "scatterpolargl": [
           {
            "marker": {
             "colorbar": {
              "outlinewidth": 0,
              "ticks": ""
             }
            },
            "type": "scatterpolargl"
           }
          ],
          "scatterternary": [
           {
            "marker": {
             "colorbar": {
              "outlinewidth": 0,
              "ticks": ""
             }
            },
            "type": "scatterternary"
           }
          ],
          "surface": [
           {
            "colorbar": {
             "outlinewidth": 0,
             "ticks": ""
            },
            "colorscale": [
             [
              0,
              "#0d0887"
             ],
             [
              0.1111111111111111,
              "#46039f"
             ],
             [
              0.2222222222222222,
              "#7201a8"
             ],
             [
              0.3333333333333333,
              "#9c179e"
             ],
             [
              0.4444444444444444,
              "#bd3786"
             ],
             [
              0.5555555555555556,
              "#d8576b"
             ],
             [
              0.6666666666666666,
              "#ed7953"
             ],
             [
              0.7777777777777778,
              "#fb9f3a"
             ],
             [
              0.8888888888888888,
              "#fdca26"
             ],
             [
              1,
              "#f0f921"
             ]
            ],
            "type": "surface"
           }
          ],
          "table": [
           {
            "cells": {
             "fill": {
              "color": "#EBF0F8"
             },
             "line": {
              "color": "white"
             }
            },
            "header": {
             "fill": {
              "color": "#C8D4E3"
             },
             "line": {
              "color": "white"
             }
            },
            "type": "table"
           }
          ]
         },
         "layout": {
          "annotationdefaults": {
           "arrowcolor": "#2a3f5f",
           "arrowhead": 0,
           "arrowwidth": 1
          },
          "autotypenumbers": "strict",
          "coloraxis": {
           "colorbar": {
            "outlinewidth": 0,
            "ticks": ""
           }
          },
          "colorscale": {
           "diverging": [
            [
             0,
             "#8e0152"
            ],
            [
             0.1,
             "#c51b7d"
            ],
            [
             0.2,
             "#de77ae"
            ],
            [
             0.3,
             "#f1b6da"
            ],
            [
             0.4,
             "#fde0ef"
            ],
            [
             0.5,
             "#f7f7f7"
            ],
            [
             0.6,
             "#e6f5d0"
            ],
            [
             0.7,
             "#b8e186"
            ],
            [
             0.8,
             "#7fbc41"
            ],
            [
             0.9,
             "#4d9221"
            ],
            [
             1,
             "#276419"
            ]
           ],
           "sequential": [
            [
             0,
             "#0d0887"
            ],
            [
             0.1111111111111111,
             "#46039f"
            ],
            [
             0.2222222222222222,
             "#7201a8"
            ],
            [
             0.3333333333333333,
             "#9c179e"
            ],
            [
             0.4444444444444444,
             "#bd3786"
            ],
            [
             0.5555555555555556,
             "#d8576b"
            ],
            [
             0.6666666666666666,
             "#ed7953"
            ],
            [
             0.7777777777777778,
             "#fb9f3a"
            ],
            [
             0.8888888888888888,
             "#fdca26"
            ],
            [
             1,
             "#f0f921"
            ]
           ],
           "sequentialminus": [
            [
             0,
             "#0d0887"
            ],
            [
             0.1111111111111111,
             "#46039f"
            ],
            [
             0.2222222222222222,
             "#7201a8"
            ],
            [
             0.3333333333333333,
             "#9c179e"
            ],
            [
             0.4444444444444444,
             "#bd3786"
            ],
            [
             0.5555555555555556,
             "#d8576b"
            ],
            [
             0.6666666666666666,
             "#ed7953"
            ],
            [
             0.7777777777777778,
             "#fb9f3a"
            ],
            [
             0.8888888888888888,
             "#fdca26"
            ],
            [
             1,
             "#f0f921"
            ]
           ]
          },
          "colorway": [
           "#636efa",
           "#EF553B",
           "#00cc96",
           "#ab63fa",
           "#FFA15A",
           "#19d3f3",
           "#FF6692",
           "#B6E880",
           "#FF97FF",
           "#FECB52"
          ],
          "font": {
           "color": "#2a3f5f"
          },
          "geo": {
           "bgcolor": "white",
           "lakecolor": "white",
           "landcolor": "#E5ECF6",
           "showlakes": true,
           "showland": true,
           "subunitcolor": "white"
          },
          "hoverlabel": {
           "align": "left"
          },
          "hovermode": "closest",
          "mapbox": {
           "style": "light"
          },
          "paper_bgcolor": "white",
          "plot_bgcolor": "#E5ECF6",
          "polar": {
           "angularaxis": {
            "gridcolor": "white",
            "linecolor": "white",
            "ticks": ""
           },
           "bgcolor": "#E5ECF6",
           "radialaxis": {
            "gridcolor": "white",
            "linecolor": "white",
            "ticks": ""
           }
          },
          "scene": {
           "xaxis": {
            "backgroundcolor": "#E5ECF6",
            "gridcolor": "white",
            "gridwidth": 2,
            "linecolor": "white",
            "showbackground": true,
            "ticks": "",
            "zerolinecolor": "white"
           },
           "yaxis": {
            "backgroundcolor": "#E5ECF6",
            "gridcolor": "white",
            "gridwidth": 2,
            "linecolor": "white",
            "showbackground": true,
            "ticks": "",
            "zerolinecolor": "white"
           },
           "zaxis": {
            "backgroundcolor": "#E5ECF6",
            "gridcolor": "white",
            "gridwidth": 2,
            "linecolor": "white",
            "showbackground": true,
            "ticks": "",
            "zerolinecolor": "white"
           }
          },
          "shapedefaults": {
           "line": {
            "color": "#2a3f5f"
           }
          },
          "ternary": {
           "aaxis": {
            "gridcolor": "white",
            "linecolor": "white",
            "ticks": ""
           },
           "baxis": {
            "gridcolor": "white",
            "linecolor": "white",
            "ticks": ""
           },
           "bgcolor": "#E5ECF6",
           "caxis": {
            "gridcolor": "white",
            "linecolor": "white",
            "ticks": ""
           }
          },
          "title": {
           "x": 0.05
          },
          "xaxis": {
           "automargin": true,
           "gridcolor": "white",
           "linecolor": "white",
           "ticks": "",
           "title": {
            "standoff": 15
           },
           "zerolinecolor": "white",
           "zerolinewidth": 2
          },
          "yaxis": {
           "automargin": true,
           "gridcolor": "white",
           "linecolor": "white",
           "ticks": "",
           "title": {
            "standoff": 15
           },
           "zerolinecolor": "white",
           "zerolinewidth": 2
          }
         }
        },
        "title": {
         "text": "Relative percentage of MP adjusted in orders for ZZ96447502 \n Percentage of adjusted orders : 0.0 %"
        },
        "width": 1000,
        "xaxis": {
         "anchor": "y",
         "categoryarray": [
          400001894436,
          400001926292,
          400001926293
         ],
         "categoryorder": "array",
         "domain": [
          0,
          0.45
         ],
         "title": {
          "text": "WipOrderNo"
         },
         "type": "category"
        },
        "xaxis2": {
         "anchor": "y2",
         "categoryarray": [
          400001894436,
          400001926292,
          400001926293
         ],
         "categoryorder": "array",
         "domain": [
          0.55,
          1
         ],
         "title": {
          "text": "WipOrderNo"
         },
         "type": "category"
        },
        "yaxis": {
         "anchor": "x",
         "domain": [
          0,
          1
         ]
        },
        "yaxis2": {
         "anchor": "x2",
         "domain": [
          0,
          1
         ]
        }
       }
      }
     },
     "metadata": {},
     "output_type": "display_data"
    },
    {
     "data": {
      "application/vnd.plotly.v1+json": {
       "config": {
        "plotlyServerURL": "https://plot.ly"
       },
       "data": [
        {
         "name": "43830",
         "type": "bar",
         "x": [
          400002028796,
          400002038841,
          400002079504
         ],
         "xaxis": "x",
         "y": [
          0.2498206851819465,
          0.24996283488214383,
          0.24991587398330728
         ],
         "yaxis": "y"
        },
        {
         "name": "71370",
         "type": "bar",
         "x": [
          400002028796,
          400002038841,
          400002079504
         ],
         "xaxis": "x",
         "y": [
          1.7698124678095974,
          1.7706954047466446,
          1.770126599454393
         ],
         "yaxis": "y"
        },
        {
         "name": "71498",
         "type": "bar",
         "x": [
          400002028796,
          400002038841,
          400002079504
         ],
         "xaxis": "x",
         "y": [
          4.104884429294957,
          4.102977049599166,
          4.106293682124146
         ],
         "yaxis": "y"
        },
        {
         "name": "73318",
         "type": "bar",
         "x": [
          400002028796,
          400002038841,
          400002079504
         ],
         "xaxis": "x",
         "y": [
          6.724086826539461,
          6.706059176780322,
          6.712480076575076
         ],
         "yaxis": "y"
        },
        {
         "name": "79317",
         "type": "bar",
         "x": [
          400002028796,
          400002038841,
          400002079504
         ],
         "xaxis": "x",
         "y": [
          3.8337599641867595,
          3.825181720863519,
          3.8242735120415814
         ],
         "yaxis": "y"
        },
        {
         "name": "80144",
         "type": "bar",
         "x": [
          400002028796,
          400002038841,
          400002079504
         ],
         "xaxis": "x",
         "y": [
          1.1795414921127843,
          1.1811297790127164,
          1.178084256586031
         ],
         "yaxis": "y"
        },
        {
         "name": "80718",
         "type": "bar",
         "x": [
          400002028796,
          400002038841,
          400002079504
         ],
         "xaxis": "x",
         "y": [
          7.989667816804662,
          7.997107970760381,
          8.006572630074503
         ],
         "yaxis": "y"
        },
        {
         "name": "80960",
         "type": "bar",
         "x": [
          400002028796,
          400002038841,
          400002079504
         ],
         "xaxis": "x",
         "y": [
          0.10998148920224808,
          0.10991901496734248,
          0.10981985431598067
         ],
         "yaxis": "y"
        },
        {
         "name": "81062",
         "type": "bar",
         "x": [
          400002028796,
          400002038841,
          400002079504
         ],
         "xaxis": "x",
         "y": [
          0.24990972605794143,
          0.2502556191674659,
          0.2495658489495169
         ],
         "yaxis": "y"
        },
        {
         "name": "87127",
         "type": "bar",
         "x": [
          400002028796,
          400002038841,
          400002079504
         ],
         "xaxis": "x",
         "y": [
          0.06013560645285432,
          0.05999579689672039,
          0.05988428292391472
         ],
         "yaxis": "y"
        },
        {
         "name": "ZZP2009975A1",
         "type": "bar",
         "x": [
          400002028796,
          400002038841,
          400002079504
         ],
         "xaxis": "x",
         "y": [
          71.90000713627606,
          71.92201002067705,
          71.90714279885297
         ],
         "yaxis": "y"
        },
        {
         "name": "ZZPP74228251",
         "type": "bar",
         "x": [
          400002028796,
          400002038841,
          400002079504
         ],
         "xaxis": "x",
         "y": [
          0.46653417184226764,
          0.46581680015614885,
          0.4668353880669546
         ],
         "yaxis": "y"
        },
        {
         "name": "ZZPP7422843",
         "type": "bar",
         "x": [
          400002028796,
          400002038841,
          400002079504
         ],
         "xaxis": "x",
         "y": [
          0.11005152135190703,
          0.10990902232961818,
          0.10982385460208116
         ],
         "yaxis": "y"
        },
        {
         "name": "ZZPP7422883B",
         "type": "bar",
         "x": [
          400002028796,
          400002038841,
          400002079504
         ],
         "xaxis": "x",
         "y": [
          0.18124120239878522,
          0.18122647776797485,
          0.18104294819165467
         ],
         "yaxis": "y"
        },
        {
         "name": "ZZPP7422885",
         "type": "bar",
         "x": [
          400002028796,
          400002038841,
          400002079504
         ],
         "xaxis": "x",
         "y": [
          0.25234584440679186,
          0.25194437494287325,
          0.2513819788391266
         ],
         "yaxis": "y"
        },
        {
         "name": "ZZPP7422886",
         "type": "bar",
         "x": [
          400002028796,
          400002038841,
          400002079504
         ],
         "xaxis": "x",
         "y": [
          0.23095002222670363,
          0.23024036580568527,
          0.23042848024490714
         ],
         "yaxis": "y"
        },
        {
         "name": "ZZPP7422887",
         "type": "bar",
         "x": [
          400002028796,
          400002038841,
          400002079504
         ],
         "xaxis": "x",
         "y": [
          0.587269597854287,
          0.5855685706442063,
          0.5863279341738521
         ],
         "yaxis": "y"
        },
        {
         "name": "Count of adjustements",
         "type": "bar",
         "x": [
          400002028796,
          400002038841,
          400002079504
         ],
         "xaxis": "x2",
         "y": [
          0,
          0,
          0
         ],
         "yaxis": "y2"
        }
       ],
       "layout": {
        "annotations": [
         {
          "font": {
           "size": 16
          },
          "showarrow": false,
          "text": "Relative percentage of each MP",
          "x": 0.225,
          "xanchor": "center",
          "xref": "paper",
          "y": 1,
          "yanchor": "bottom",
          "yref": "paper"
         },
         {
          "font": {
           "size": 16
          },
          "showarrow": false,
          "text": "Number of adjustements applied",
          "x": 0.775,
          "xanchor": "center",
          "xref": "paper",
          "y": 1,
          "yanchor": "bottom",
          "yref": "paper"
         }
        ],
        "barmode": "stack",
        "height": 500,
        "legend": {
         "title": {
          "text": "ComponentProductNo"
         }
        },
        "template": {
         "data": {
          "bar": [
           {
            "error_x": {
             "color": "#2a3f5f"
            },
            "error_y": {
             "color": "#2a3f5f"
            },
            "marker": {
             "line": {
              "color": "#E5ECF6",
              "width": 0.5
             },
             "pattern": {
              "fillmode": "overlay",
              "size": 10,
              "solidity": 0.2
             }
            },
            "type": "bar"
           }
          ],
          "barpolar": [
           {
            "marker": {
             "line": {
              "color": "#E5ECF6",
              "width": 0.5
             },
             "pattern": {
              "fillmode": "overlay",
              "size": 10,
              "solidity": 0.2
             }
            },
            "type": "barpolar"
           }
          ],
          "carpet": [
           {
            "aaxis": {
             "endlinecolor": "#2a3f5f",
             "gridcolor": "white",
             "linecolor": "white",
             "minorgridcolor": "white",
             "startlinecolor": "#2a3f5f"
            },
            "baxis": {
             "endlinecolor": "#2a3f5f",
             "gridcolor": "white",
             "linecolor": "white",
             "minorgridcolor": "white",
             "startlinecolor": "#2a3f5f"
            },
            "type": "carpet"
           }
          ],
          "choropleth": [
           {
            "colorbar": {
             "outlinewidth": 0,
             "ticks": ""
            },
            "type": "choropleth"
           }
          ],
          "contour": [
           {
            "colorbar": {
             "outlinewidth": 0,
             "ticks": ""
            },
            "colorscale": [
             [
              0,
              "#0d0887"
             ],
             [
              0.1111111111111111,
              "#46039f"
             ],
             [
              0.2222222222222222,
              "#7201a8"
             ],
             [
              0.3333333333333333,
              "#9c179e"
             ],
             [
              0.4444444444444444,
              "#bd3786"
             ],
             [
              0.5555555555555556,
              "#d8576b"
             ],
             [
              0.6666666666666666,
              "#ed7953"
             ],
             [
              0.7777777777777778,
              "#fb9f3a"
             ],
             [
              0.8888888888888888,
              "#fdca26"
             ],
             [
              1,
              "#f0f921"
             ]
            ],
            "type": "contour"
           }
          ],
          "contourcarpet": [
           {
            "colorbar": {
             "outlinewidth": 0,
             "ticks": ""
            },
            "type": "contourcarpet"
           }
          ],
          "heatmap": [
           {
            "colorbar": {
             "outlinewidth": 0,
             "ticks": ""
            },
            "colorscale": [
             [
              0,
              "#0d0887"
             ],
             [
              0.1111111111111111,
              "#46039f"
             ],
             [
              0.2222222222222222,
              "#7201a8"
             ],
             [
              0.3333333333333333,
              "#9c179e"
             ],
             [
              0.4444444444444444,
              "#bd3786"
             ],
             [
              0.5555555555555556,
              "#d8576b"
             ],
             [
              0.6666666666666666,
              "#ed7953"
             ],
             [
              0.7777777777777778,
              "#fb9f3a"
             ],
             [
              0.8888888888888888,
              "#fdca26"
             ],
             [
              1,
              "#f0f921"
             ]
            ],
            "type": "heatmap"
           }
          ],
          "heatmapgl": [
           {
            "colorbar": {
             "outlinewidth": 0,
             "ticks": ""
            },
            "colorscale": [
             [
              0,
              "#0d0887"
             ],
             [
              0.1111111111111111,
              "#46039f"
             ],
             [
              0.2222222222222222,
              "#7201a8"
             ],
             [
              0.3333333333333333,
              "#9c179e"
             ],
             [
              0.4444444444444444,
              "#bd3786"
             ],
             [
              0.5555555555555556,
              "#d8576b"
             ],
             [
              0.6666666666666666,
              "#ed7953"
             ],
             [
              0.7777777777777778,
              "#fb9f3a"
             ],
             [
              0.8888888888888888,
              "#fdca26"
             ],
             [
              1,
              "#f0f921"
             ]
            ],
            "type": "heatmapgl"
           }
          ],
          "histogram": [
           {
            "marker": {
             "pattern": {
              "fillmode": "overlay",
              "size": 10,
              "solidity": 0.2
             }
            },
            "type": "histogram"
           }
          ],
          "histogram2d": [
           {
            "colorbar": {
             "outlinewidth": 0,
             "ticks": ""
            },
            "colorscale": [
             [
              0,
              "#0d0887"
             ],
             [
              0.1111111111111111,
              "#46039f"
             ],
             [
              0.2222222222222222,
              "#7201a8"
             ],
             [
              0.3333333333333333,
              "#9c179e"
             ],
             [
              0.4444444444444444,
              "#bd3786"
             ],
             [
              0.5555555555555556,
              "#d8576b"
             ],
             [
              0.6666666666666666,
              "#ed7953"
             ],
             [
              0.7777777777777778,
              "#fb9f3a"
             ],
             [
              0.8888888888888888,
              "#fdca26"
             ],
             [
              1,
              "#f0f921"
             ]
            ],
            "type": "histogram2d"
           }
          ],
          "histogram2dcontour": [
           {
            "colorbar": {
             "outlinewidth": 0,
             "ticks": ""
            },
            "colorscale": [
             [
              0,
              "#0d0887"
             ],
             [
              0.1111111111111111,
              "#46039f"
             ],
             [
              0.2222222222222222,
              "#7201a8"
             ],
             [
              0.3333333333333333,
              "#9c179e"
             ],
             [
              0.4444444444444444,
              "#bd3786"
             ],
             [
              0.5555555555555556,
              "#d8576b"
             ],
             [
              0.6666666666666666,
              "#ed7953"
             ],
             [
              0.7777777777777778,
              "#fb9f3a"
             ],
             [
              0.8888888888888888,
              "#fdca26"
             ],
             [
              1,
              "#f0f921"
             ]
            ],
            "type": "histogram2dcontour"
           }
          ],
          "mesh3d": [
           {
            "colorbar": {
             "outlinewidth": 0,
             "ticks": ""
            },
            "type": "mesh3d"
           }
          ],
          "parcoords": [
           {
            "line": {
             "colorbar": {
              "outlinewidth": 0,
              "ticks": ""
             }
            },
            "type": "parcoords"
           }
          ],
          "pie": [
           {
            "automargin": true,
            "type": "pie"
           }
          ],
          "scatter": [
           {
            "fillpattern": {
             "fillmode": "overlay",
             "size": 10,
             "solidity": 0.2
            },
            "type": "scatter"
           }
          ],
          "scatter3d": [
           {
            "line": {
             "colorbar": {
              "outlinewidth": 0,
              "ticks": ""
             }
            },
            "marker": {
             "colorbar": {
              "outlinewidth": 0,
              "ticks": ""
             }
            },
            "type": "scatter3d"
           }
          ],
          "scattercarpet": [
           {
            "marker": {
             "colorbar": {
              "outlinewidth": 0,
              "ticks": ""
             }
            },
            "type": "scattercarpet"
           }
          ],
          "scattergeo": [
           {
            "marker": {
             "colorbar": {
              "outlinewidth": 0,
              "ticks": ""
             }
            },
            "type": "scattergeo"
           }
          ],
          "scattergl": [
           {
            "marker": {
             "colorbar": {
              "outlinewidth": 0,
              "ticks": ""
             }
            },
            "type": "scattergl"
           }
          ],
          "scattermapbox": [
           {
            "marker": {
             "colorbar": {
              "outlinewidth": 0,
              "ticks": ""
             }
            },
            "type": "scattermapbox"
           }
          ],
          "scatterpolar": [
           {
            "marker": {
             "colorbar": {
              "outlinewidth": 0,
              "ticks": ""
             }
            },
            "type": "scatterpolar"
           }
          ],
          "scatterpolargl": [
           {
            "marker": {
             "colorbar": {
              "outlinewidth": 0,
              "ticks": ""
             }
            },
            "type": "scatterpolargl"
           }
          ],
          "scatterternary": [
           {
            "marker": {
             "colorbar": {
              "outlinewidth": 0,
              "ticks": ""
             }
            },
            "type": "scatterternary"
           }
          ],
          "surface": [
           {
            "colorbar": {
             "outlinewidth": 0,
             "ticks": ""
            },
            "colorscale": [
             [
              0,
              "#0d0887"
             ],
             [
              0.1111111111111111,
              "#46039f"
             ],
             [
              0.2222222222222222,
              "#7201a8"
             ],
             [
              0.3333333333333333,
              "#9c179e"
             ],
             [
              0.4444444444444444,
              "#bd3786"
             ],
             [
              0.5555555555555556,
              "#d8576b"
             ],
             [
              0.6666666666666666,
              "#ed7953"
             ],
             [
              0.7777777777777778,
              "#fb9f3a"
             ],
             [
              0.8888888888888888,
              "#fdca26"
             ],
             [
              1,
              "#f0f921"
             ]
            ],
            "type": "surface"
           }
          ],
          "table": [
           {
            "cells": {
             "fill": {
              "color": "#EBF0F8"
             },
             "line": {
              "color": "white"
             }
            },
            "header": {
             "fill": {
              "color": "#C8D4E3"
             },
             "line": {
              "color": "white"
             }
            },
            "type": "table"
           }
          ]
         },
         "layout": {
          "annotationdefaults": {
           "arrowcolor": "#2a3f5f",
           "arrowhead": 0,
           "arrowwidth": 1
          },
          "autotypenumbers": "strict",
          "coloraxis": {
           "colorbar": {
            "outlinewidth": 0,
            "ticks": ""
           }
          },
          "colorscale": {
           "diverging": [
            [
             0,
             "#8e0152"
            ],
            [
             0.1,
             "#c51b7d"
            ],
            [
             0.2,
             "#de77ae"
            ],
            [
             0.3,
             "#f1b6da"
            ],
            [
             0.4,
             "#fde0ef"
            ],
            [
             0.5,
             "#f7f7f7"
            ],
            [
             0.6,
             "#e6f5d0"
            ],
            [
             0.7,
             "#b8e186"
            ],
            [
             0.8,
             "#7fbc41"
            ],
            [
             0.9,
             "#4d9221"
            ],
            [
             1,
             "#276419"
            ]
           ],
           "sequential": [
            [
             0,
             "#0d0887"
            ],
            [
             0.1111111111111111,
             "#46039f"
            ],
            [
             0.2222222222222222,
             "#7201a8"
            ],
            [
             0.3333333333333333,
             "#9c179e"
            ],
            [
             0.4444444444444444,
             "#bd3786"
            ],
            [
             0.5555555555555556,
             "#d8576b"
            ],
            [
             0.6666666666666666,
             "#ed7953"
            ],
            [
             0.7777777777777778,
             "#fb9f3a"
            ],
            [
             0.8888888888888888,
             "#fdca26"
            ],
            [
             1,
             "#f0f921"
            ]
           ],
           "sequentialminus": [
            [
             0,
             "#0d0887"
            ],
            [
             0.1111111111111111,
             "#46039f"
            ],
            [
             0.2222222222222222,
             "#7201a8"
            ],
            [
             0.3333333333333333,
             "#9c179e"
            ],
            [
             0.4444444444444444,
             "#bd3786"
            ],
            [
             0.5555555555555556,
             "#d8576b"
            ],
            [
             0.6666666666666666,
             "#ed7953"
            ],
            [
             0.7777777777777778,
             "#fb9f3a"
            ],
            [
             0.8888888888888888,
             "#fdca26"
            ],
            [
             1,
             "#f0f921"
            ]
           ]
          },
          "colorway": [
           "#636efa",
           "#EF553B",
           "#00cc96",
           "#ab63fa",
           "#FFA15A",
           "#19d3f3",
           "#FF6692",
           "#B6E880",
           "#FF97FF",
           "#FECB52"
          ],
          "font": {
           "color": "#2a3f5f"
          },
          "geo": {
           "bgcolor": "white",
           "lakecolor": "white",
           "landcolor": "#E5ECF6",
           "showlakes": true,
           "showland": true,
           "subunitcolor": "white"
          },
          "hoverlabel": {
           "align": "left"
          },
          "hovermode": "closest",
          "mapbox": {
           "style": "light"
          },
          "paper_bgcolor": "white",
          "plot_bgcolor": "#E5ECF6",
          "polar": {
           "angularaxis": {
            "gridcolor": "white",
            "linecolor": "white",
            "ticks": ""
           },
           "bgcolor": "#E5ECF6",
           "radialaxis": {
            "gridcolor": "white",
            "linecolor": "white",
            "ticks": ""
           }
          },
          "scene": {
           "xaxis": {
            "backgroundcolor": "#E5ECF6",
            "gridcolor": "white",
            "gridwidth": 2,
            "linecolor": "white",
            "showbackground": true,
            "ticks": "",
            "zerolinecolor": "white"
           },
           "yaxis": {
            "backgroundcolor": "#E5ECF6",
            "gridcolor": "white",
            "gridwidth": 2,
            "linecolor": "white",
            "showbackground": true,
            "ticks": "",
            "zerolinecolor": "white"
           },
           "zaxis": {
            "backgroundcolor": "#E5ECF6",
            "gridcolor": "white",
            "gridwidth": 2,
            "linecolor": "white",
            "showbackground": true,
            "ticks": "",
            "zerolinecolor": "white"
           }
          },
          "shapedefaults": {
           "line": {
            "color": "#2a3f5f"
           }
          },
          "ternary": {
           "aaxis": {
            "gridcolor": "white",
            "linecolor": "white",
            "ticks": ""
           },
           "baxis": {
            "gridcolor": "white",
            "linecolor": "white",
            "ticks": ""
           },
           "bgcolor": "#E5ECF6",
           "caxis": {
            "gridcolor": "white",
            "linecolor": "white",
            "ticks": ""
           }
          },
          "title": {
           "x": 0.05
          },
          "xaxis": {
           "automargin": true,
           "gridcolor": "white",
           "linecolor": "white",
           "ticks": "",
           "title": {
            "standoff": 15
           },
           "zerolinecolor": "white",
           "zerolinewidth": 2
          },
          "yaxis": {
           "automargin": true,
           "gridcolor": "white",
           "linecolor": "white",
           "ticks": "",
           "title": {
            "standoff": 15
           },
           "zerolinecolor": "white",
           "zerolinewidth": 2
          }
         }
        },
        "title": {
         "text": "Relative percentage of MP adjusted in orders for ZZ20100967 \n Percentage of adjusted orders : 0.0 %"
        },
        "width": 1000,
        "xaxis": {
         "anchor": "y",
         "categoryarray": [
          400002028796,
          400002038841,
          400002079504
         ],
         "categoryorder": "array",
         "domain": [
          0,
          0.45
         ],
         "title": {
          "text": "WipOrderNo"
         },
         "type": "category"
        },
        "xaxis2": {
         "anchor": "y2",
         "categoryarray": [
          400002028796,
          400002038841,
          400002079504
         ],
         "categoryorder": "array",
         "domain": [
          0.55,
          1
         ],
         "title": {
          "text": "WipOrderNo"
         },
         "type": "category"
        },
        "yaxis": {
         "anchor": "x",
         "domain": [
          0,
          1
         ]
        },
        "yaxis2": {
         "anchor": "x2",
         "domain": [
          0,
          1
         ]
        }
       }
      }
     },
     "metadata": {},
     "output_type": "display_data"
    },
    {
     "data": {
      "application/vnd.plotly.v1+json": {
       "config": {
        "plotlyServerURL": "https://plot.ly"
       },
       "data": [
        {
         "name": "2935",
         "type": "bar",
         "x": [
          400001955842,
          400002041648
         ],
         "xaxis": "x",
         "y": [
          4.822937802272662,
          4.175862499005411
         ],
         "yaxis": "y"
        },
        {
         "name": "52147",
         "type": "bar",
         "x": [
          400001955842,
          400002041648
         ],
         "xaxis": "x",
         "y": [
          1.4775554498916184,
          1.5256731300902897
         ],
         "yaxis": "y"
        },
        {
         "name": "53282",
         "type": "bar",
         "x": [
          400001955842,
          400002041648
         ],
         "xaxis": "x",
         "y": [
          0.9380189427063838,
          0.9683809012172316
         ],
         "yaxis": "y"
        },
        {
         "name": "53485",
         "type": "bar",
         "x": [
          400001955842,
          400002041648
         ],
         "xaxis": "x",
         "y": [
          8.06268570324259,
          8.343663487394982
         ],
         "yaxis": "y"
        },
        {
         "name": "53743",
         "type": "bar",
         "x": [
          400001955842,
          400002041648
         ],
         "xaxis": "x",
         "y": [
          0.7384811305056124,
          0.7618449992393965
         ],
         "yaxis": "y"
        },
        {
         "name": "71693",
         "type": "bar",
         "x": [
          400001955842,
          400002041648
         ],
         "xaxis": "x",
         "y": [
          21.14894754243408,
          21.819195956217293
         ],
         "yaxis": "y"
        },
        {
         "name": "71783",
         "type": "bar",
         "x": [
          400001955842,
          400002041648
         ],
         "xaxis": "x",
         "y": [
          4.714290575758493,
          4.8772139225835405
         ],
         "yaxis": "y"
        },
        {
         "name": "75047",
         "type": "bar",
         "x": [
          400001955842,
          400002041648
         ],
         "xaxis": "x",
         "y": [
          3.1158260607856256,
          3.2191466036493006
         ],
         "yaxis": "y"
        },
        {
         "name": "80210",
         "type": "bar",
         "x": [
          400001955842,
          400002041648
         ],
         "xaxis": "x",
         "y": [
          3.3405900106368134,
          3.4568724901998236
         ],
         "yaxis": "y"
        },
        {
         "name": "ZZP838100A",
         "type": "bar",
         "x": [
          400001955842,
          400002041648
         ],
         "xaxis": "x",
         "y": [
          51.64066678176612,
          50.852146010402734
         ],
         "yaxis": "y"
        },
        {
         "name": "Count of adjustements",
         "type": "bar",
         "x": [
          400001955842,
          400002041648
         ],
         "xaxis": "x2",
         "y": [
          3,
          1
         ],
         "yaxis": "y2"
        }
       ],
       "layout": {
        "annotations": [
         {
          "font": {
           "size": 16
          },
          "showarrow": false,
          "text": "Relative percentage of each MP",
          "x": 0.225,
          "xanchor": "center",
          "xref": "paper",
          "y": 1,
          "yanchor": "bottom",
          "yref": "paper"
         },
         {
          "font": {
           "size": 16
          },
          "showarrow": false,
          "text": "Number of adjustements applied",
          "x": 0.775,
          "xanchor": "center",
          "xref": "paper",
          "y": 1,
          "yanchor": "bottom",
          "yref": "paper"
         }
        ],
        "barmode": "stack",
        "height": 500,
        "legend": {
         "title": {
          "text": "ComponentProductNo"
         }
        },
        "template": {
         "data": {
          "bar": [
           {
            "error_x": {
             "color": "#2a3f5f"
            },
            "error_y": {
             "color": "#2a3f5f"
            },
            "marker": {
             "line": {
              "color": "#E5ECF6",
              "width": 0.5
             },
             "pattern": {
              "fillmode": "overlay",
              "size": 10,
              "solidity": 0.2
             }
            },
            "type": "bar"
           }
          ],
          "barpolar": [
           {
            "marker": {
             "line": {
              "color": "#E5ECF6",
              "width": 0.5
             },
             "pattern": {
              "fillmode": "overlay",
              "size": 10,
              "solidity": 0.2
             }
            },
            "type": "barpolar"
           }
          ],
          "carpet": [
           {
            "aaxis": {
             "endlinecolor": "#2a3f5f",
             "gridcolor": "white",
             "linecolor": "white",
             "minorgridcolor": "white",
             "startlinecolor": "#2a3f5f"
            },
            "baxis": {
             "endlinecolor": "#2a3f5f",
             "gridcolor": "white",
             "linecolor": "white",
             "minorgridcolor": "white",
             "startlinecolor": "#2a3f5f"
            },
            "type": "carpet"
           }
          ],
          "choropleth": [
           {
            "colorbar": {
             "outlinewidth": 0,
             "ticks": ""
            },
            "type": "choropleth"
           }
          ],
          "contour": [
           {
            "colorbar": {
             "outlinewidth": 0,
             "ticks": ""
            },
            "colorscale": [
             [
              0,
              "#0d0887"
             ],
             [
              0.1111111111111111,
              "#46039f"
             ],
             [
              0.2222222222222222,
              "#7201a8"
             ],
             [
              0.3333333333333333,
              "#9c179e"
             ],
             [
              0.4444444444444444,
              "#bd3786"
             ],
             [
              0.5555555555555556,
              "#d8576b"
             ],
             [
              0.6666666666666666,
              "#ed7953"
             ],
             [
              0.7777777777777778,
              "#fb9f3a"
             ],
             [
              0.8888888888888888,
              "#fdca26"
             ],
             [
              1,
              "#f0f921"
             ]
            ],
            "type": "contour"
           }
          ],
          "contourcarpet": [
           {
            "colorbar": {
             "outlinewidth": 0,
             "ticks": ""
            },
            "type": "contourcarpet"
           }
          ],
          "heatmap": [
           {
            "colorbar": {
             "outlinewidth": 0,
             "ticks": ""
            },
            "colorscale": [
             [
              0,
              "#0d0887"
             ],
             [
              0.1111111111111111,
              "#46039f"
             ],
             [
              0.2222222222222222,
              "#7201a8"
             ],
             [
              0.3333333333333333,
              "#9c179e"
             ],
             [
              0.4444444444444444,
              "#bd3786"
             ],
             [
              0.5555555555555556,
              "#d8576b"
             ],
             [
              0.6666666666666666,
              "#ed7953"
             ],
             [
              0.7777777777777778,
              "#fb9f3a"
             ],
             [
              0.8888888888888888,
              "#fdca26"
             ],
             [
              1,
              "#f0f921"
             ]
            ],
            "type": "heatmap"
           }
          ],
          "heatmapgl": [
           {
            "colorbar": {
             "outlinewidth": 0,
             "ticks": ""
            },
            "colorscale": [
             [
              0,
              "#0d0887"
             ],
             [
              0.1111111111111111,
              "#46039f"
             ],
             [
              0.2222222222222222,
              "#7201a8"
             ],
             [
              0.3333333333333333,
              "#9c179e"
             ],
             [
              0.4444444444444444,
              "#bd3786"
             ],
             [
              0.5555555555555556,
              "#d8576b"
             ],
             [
              0.6666666666666666,
              "#ed7953"
             ],
             [
              0.7777777777777778,
              "#fb9f3a"
             ],
             [
              0.8888888888888888,
              "#fdca26"
             ],
             [
              1,
              "#f0f921"
             ]
            ],
            "type": "heatmapgl"
           }
          ],
          "histogram": [
           {
            "marker": {
             "pattern": {
              "fillmode": "overlay",
              "size": 10,
              "solidity": 0.2
             }
            },
            "type": "histogram"
           }
          ],
          "histogram2d": [
           {
            "colorbar": {
             "outlinewidth": 0,
             "ticks": ""
            },
            "colorscale": [
             [
              0,
              "#0d0887"
             ],
             [
              0.1111111111111111,
              "#46039f"
             ],
             [
              0.2222222222222222,
              "#7201a8"
             ],
             [
              0.3333333333333333,
              "#9c179e"
             ],
             [
              0.4444444444444444,
              "#bd3786"
             ],
             [
              0.5555555555555556,
              "#d8576b"
             ],
             [
              0.6666666666666666,
              "#ed7953"
             ],
             [
              0.7777777777777778,
              "#fb9f3a"
             ],
             [
              0.8888888888888888,
              "#fdca26"
             ],
             [
              1,
              "#f0f921"
             ]
            ],
            "type": "histogram2d"
           }
          ],
          "histogram2dcontour": [
           {
            "colorbar": {
             "outlinewidth": 0,
             "ticks": ""
            },
            "colorscale": [
             [
              0,
              "#0d0887"
             ],
             [
              0.1111111111111111,
              "#46039f"
             ],
             [
              0.2222222222222222,
              "#7201a8"
             ],
             [
              0.3333333333333333,
              "#9c179e"
             ],
             [
              0.4444444444444444,
              "#bd3786"
             ],
             [
              0.5555555555555556,
              "#d8576b"
             ],
             [
              0.6666666666666666,
              "#ed7953"
             ],
             [
              0.7777777777777778,
              "#fb9f3a"
             ],
             [
              0.8888888888888888,
              "#fdca26"
             ],
             [
              1,
              "#f0f921"
             ]
            ],
            "type": "histogram2dcontour"
           }
          ],
          "mesh3d": [
           {
            "colorbar": {
             "outlinewidth": 0,
             "ticks": ""
            },
            "type": "mesh3d"
           }
          ],
          "parcoords": [
           {
            "line": {
             "colorbar": {
              "outlinewidth": 0,
              "ticks": ""
             }
            },
            "type": "parcoords"
           }
          ],
          "pie": [
           {
            "automargin": true,
            "type": "pie"
           }
          ],
          "scatter": [
           {
            "fillpattern": {
             "fillmode": "overlay",
             "size": 10,
             "solidity": 0.2
            },
            "type": "scatter"
           }
          ],
          "scatter3d": [
           {
            "line": {
             "colorbar": {
              "outlinewidth": 0,
              "ticks": ""
             }
            },
            "marker": {
             "colorbar": {
              "outlinewidth": 0,
              "ticks": ""
             }
            },
            "type": "scatter3d"
           }
          ],
          "scattercarpet": [
           {
            "marker": {
             "colorbar": {
              "outlinewidth": 0,
              "ticks": ""
             }
            },
            "type": "scattercarpet"
           }
          ],
          "scattergeo": [
           {
            "marker": {
             "colorbar": {
              "outlinewidth": 0,
              "ticks": ""
             }
            },
            "type": "scattergeo"
           }
          ],
          "scattergl": [
           {
            "marker": {
             "colorbar": {
              "outlinewidth": 0,
              "ticks": ""
             }
            },
            "type": "scattergl"
           }
          ],
          "scattermapbox": [
           {
            "marker": {
             "colorbar": {
              "outlinewidth": 0,
              "ticks": ""
             }
            },
            "type": "scattermapbox"
           }
          ],
          "scatterpolar": [
           {
            "marker": {
             "colorbar": {
              "outlinewidth": 0,
              "ticks": ""
             }
            },
            "type": "scatterpolar"
           }
          ],
          "scatterpolargl": [
           {
            "marker": {
             "colorbar": {
              "outlinewidth": 0,
              "ticks": ""
             }
            },
            "type": "scatterpolargl"
           }
          ],
          "scatterternary": [
           {
            "marker": {
             "colorbar": {
              "outlinewidth": 0,
              "ticks": ""
             }
            },
            "type": "scatterternary"
           }
          ],
          "surface": [
           {
            "colorbar": {
             "outlinewidth": 0,
             "ticks": ""
            },
            "colorscale": [
             [
              0,
              "#0d0887"
             ],
             [
              0.1111111111111111,
              "#46039f"
             ],
             [
              0.2222222222222222,
              "#7201a8"
             ],
             [
              0.3333333333333333,
              "#9c179e"
             ],
             [
              0.4444444444444444,
              "#bd3786"
             ],
             [
              0.5555555555555556,
              "#d8576b"
             ],
             [
              0.6666666666666666,
              "#ed7953"
             ],
             [
              0.7777777777777778,
              "#fb9f3a"
             ],
             [
              0.8888888888888888,
              "#fdca26"
             ],
             [
              1,
              "#f0f921"
             ]
            ],
            "type": "surface"
           }
          ],
          "table": [
           {
            "cells": {
             "fill": {
              "color": "#EBF0F8"
             },
             "line": {
              "color": "white"
             }
            },
            "header": {
             "fill": {
              "color": "#C8D4E3"
             },
             "line": {
              "color": "white"
             }
            },
            "type": "table"
           }
          ]
         },
         "layout": {
          "annotationdefaults": {
           "arrowcolor": "#2a3f5f",
           "arrowhead": 0,
           "arrowwidth": 1
          },
          "autotypenumbers": "strict",
          "coloraxis": {
           "colorbar": {
            "outlinewidth": 0,
            "ticks": ""
           }
          },
          "colorscale": {
           "diverging": [
            [
             0,
             "#8e0152"
            ],
            [
             0.1,
             "#c51b7d"
            ],
            [
             0.2,
             "#de77ae"
            ],
            [
             0.3,
             "#f1b6da"
            ],
            [
             0.4,
             "#fde0ef"
            ],
            [
             0.5,
             "#f7f7f7"
            ],
            [
             0.6,
             "#e6f5d0"
            ],
            [
             0.7,
             "#b8e186"
            ],
            [
             0.8,
             "#7fbc41"
            ],
            [
             0.9,
             "#4d9221"
            ],
            [
             1,
             "#276419"
            ]
           ],
           "sequential": [
            [
             0,
             "#0d0887"
            ],
            [
             0.1111111111111111,
             "#46039f"
            ],
            [
             0.2222222222222222,
             "#7201a8"
            ],
            [
             0.3333333333333333,
             "#9c179e"
            ],
            [
             0.4444444444444444,
             "#bd3786"
            ],
            [
             0.5555555555555556,
             "#d8576b"
            ],
            [
             0.6666666666666666,
             "#ed7953"
            ],
            [
             0.7777777777777778,
             "#fb9f3a"
            ],
            [
             0.8888888888888888,
             "#fdca26"
            ],
            [
             1,
             "#f0f921"
            ]
           ],
           "sequentialminus": [
            [
             0,
             "#0d0887"
            ],
            [
             0.1111111111111111,
             "#46039f"
            ],
            [
             0.2222222222222222,
             "#7201a8"
            ],
            [
             0.3333333333333333,
             "#9c179e"
            ],
            [
             0.4444444444444444,
             "#bd3786"
            ],
            [
             0.5555555555555556,
             "#d8576b"
            ],
            [
             0.6666666666666666,
             "#ed7953"
            ],
            [
             0.7777777777777778,
             "#fb9f3a"
            ],
            [
             0.8888888888888888,
             "#fdca26"
            ],
            [
             1,
             "#f0f921"
            ]
           ]
          },
          "colorway": [
           "#636efa",
           "#EF553B",
           "#00cc96",
           "#ab63fa",
           "#FFA15A",
           "#19d3f3",
           "#FF6692",
           "#B6E880",
           "#FF97FF",
           "#FECB52"
          ],
          "font": {
           "color": "#2a3f5f"
          },
          "geo": {
           "bgcolor": "white",
           "lakecolor": "white",
           "landcolor": "#E5ECF6",
           "showlakes": true,
           "showland": true,
           "subunitcolor": "white"
          },
          "hoverlabel": {
           "align": "left"
          },
          "hovermode": "closest",
          "mapbox": {
           "style": "light"
          },
          "paper_bgcolor": "white",
          "plot_bgcolor": "#E5ECF6",
          "polar": {
           "angularaxis": {
            "gridcolor": "white",
            "linecolor": "white",
            "ticks": ""
           },
           "bgcolor": "#E5ECF6",
           "radialaxis": {
            "gridcolor": "white",
            "linecolor": "white",
            "ticks": ""
           }
          },
          "scene": {
           "xaxis": {
            "backgroundcolor": "#E5ECF6",
            "gridcolor": "white",
            "gridwidth": 2,
            "linecolor": "white",
            "showbackground": true,
            "ticks": "",
            "zerolinecolor": "white"
           },
           "yaxis": {
            "backgroundcolor": "#E5ECF6",
            "gridcolor": "white",
            "gridwidth": 2,
            "linecolor": "white",
            "showbackground": true,
            "ticks": "",
            "zerolinecolor": "white"
           },
           "zaxis": {
            "backgroundcolor": "#E5ECF6",
            "gridcolor": "white",
            "gridwidth": 2,
            "linecolor": "white",
            "showbackground": true,
            "ticks": "",
            "zerolinecolor": "white"
           }
          },
          "shapedefaults": {
           "line": {
            "color": "#2a3f5f"
           }
          },
          "ternary": {
           "aaxis": {
            "gridcolor": "white",
            "linecolor": "white",
            "ticks": ""
           },
           "baxis": {
            "gridcolor": "white",
            "linecolor": "white",
            "ticks": ""
           },
           "bgcolor": "#E5ECF6",
           "caxis": {
            "gridcolor": "white",
            "linecolor": "white",
            "ticks": ""
           }
          },
          "title": {
           "x": 0.05
          },
          "xaxis": {
           "automargin": true,
           "gridcolor": "white",
           "linecolor": "white",
           "ticks": "",
           "title": {
            "standoff": 15
           },
           "zerolinecolor": "white",
           "zerolinewidth": 2
          },
          "yaxis": {
           "automargin": true,
           "gridcolor": "white",
           "linecolor": "white",
           "ticks": "",
           "title": {
            "standoff": 15
           },
           "zerolinecolor": "white",
           "zerolinewidth": 2
          }
         }
        },
        "title": {
         "text": "Relative percentage of MP adjusted in orders for ZZ2009336 \n Percentage of adjusted orders : 100.0 %"
        },
        "width": 1000,
        "xaxis": {
         "anchor": "y",
         "categoryarray": [
          400001955842,
          400002041648
         ],
         "categoryorder": "array",
         "domain": [
          0,
          0.45
         ],
         "title": {
          "text": "WipOrderNo"
         },
         "type": "category"
        },
        "xaxis2": {
         "anchor": "y2",
         "categoryarray": [
          400001955842,
          400002041648
         ],
         "categoryorder": "array",
         "domain": [
          0.55,
          1
         ],
         "title": {
          "text": "WipOrderNo"
         },
         "type": "category"
        },
        "yaxis": {
         "anchor": "x",
         "domain": [
          0,
          1
         ]
        },
        "yaxis2": {
         "anchor": "x2",
         "domain": [
          0,
          1
         ]
        }
       }
      }
     },
     "metadata": {},
     "output_type": "display_data"
    },
    {
     "data": {
      "application/vnd.plotly.v1+json": {
       "config": {
        "plotlyServerURL": "https://plot.ly"
       },
       "data": [
        {
         "name": "2749",
         "type": "bar",
         "x": [
          400001964246,
          400001986520,
          400001986519,
          400002070056
         ],
         "xaxis": "x",
         "y": [
          0.2997737673302288,
          0.29906629477814545,
          0.2991849963301389,
          0.2996010362407688
         ],
         "yaxis": "y"
        },
        {
         "name": "53916",
         "type": "bar",
         "x": [
          400001964246,
          400001986520,
          400001986519,
          400002070056
         ],
         "xaxis": "x",
         "y": [
          13.326015731689477,
          13.303706618994285,
          13.329999919770842,
          13.369214723917386
         ],
         "yaxis": "y"
        },
        {
         "name": "71614",
         "type": "bar",
         "x": [
          400001964246,
          400001986520,
          400001986519,
          400002070056
         ],
         "xaxis": "x",
         "y": [
          0.29974380626563096,
          0.2995379872192608,
          0.2992547608157003,
          0.2995810424002046
         ],
         "yaxis": "y"
        },
        {
         "name": "79382",
         "type": "bar",
         "x": [
          400001964246,
          400001986520,
          400001986519,
          400002070056
         ],
         "xaxis": "x",
         "y": [
          0.9998939378313236,
          0.9969120089640164,
          0.9969295154951158,
          1.0016847476520736
         ],
         "yaxis": "y"
        },
        {
         "name": "80337",
         "type": "bar",
         "x": [
          400001964246,
          400001986520,
          400001986519,
          400002070056
         ],
         "xaxis": "x",
         "y": [
          4.9884007402913,
          4.976023075991446,
          4.9881607176413505,
          4.988463220763791
         ],
         "yaxis": "y"
        },
        {
         "name": "82L",
         "type": "bar",
         "x": [
          400001964246,
          400001986520,
          400001986519,
          400002070056
         ],
         "xaxis": "x",
         "y": [
          4.9868527519537444,
          4.972787664458726,
          4.9732111850210465,
          4.978466300481699
         ],
         "yaxis": "y"
        },
        {
         "name": "ZZP1445T",
         "type": "bar",
         "x": [
          400001964246,
          400001986520,
          400001986519,
          400002070056
         ],
         "xaxis": "x",
         "y": [
          20.090558316449165,
          20.030319858630453,
          20.032373711207022,
          20.070483619679568
         ],
         "yaxis": "y"
        },
        {
         "name": "ZZP79085T",
         "type": "bar",
         "x": [
          400001964246,
          400001986520,
          400001986519,
          400002070056
         ],
         "xaxis": "x",
         "y": [
          3.3722842708472247,
          3.374926198402743,
          3.3736111946485456,
          3.3756267485863187
         ],
         "yaxis": "y"
        },
        {
         "name": "ZZP79086T",
         "type": "bar",
         "x": [
          400001964246,
          400001986520,
          400001986519,
          400002070056
         ],
         "xaxis": "x",
         "y": [
          5.7292213525449895,
          5.726744848470796,
          5.720687816036234,
          5.7315676283992785
         ],
         "yaxis": "y"
        },
        {
         "name": "ZZP79087T",
         "type": "bar",
         "x": [
          400001964246,
          400001986520,
          400001986519,
          400002070056
         ],
         "xaxis": "x",
         "y": [
          0.8691172198688731,
          1.1028966499937782,
          1.0283584162405344,
          0.8725112083804051
         ],
         "yaxis": "y"
        },
        {
         "name": "ZZP965614H",
         "type": "bar",
         "x": [
          400001964246,
          400001986520,
          400001986519,
          400002070056
         ],
         "xaxis": "x",
         "y": [
          45.038138104928045,
          44.91707879409635,
          44.95822776679347,
          45.01279972349852
         ],
         "yaxis": "y"
        },
        {
         "name": "Count of adjustements",
         "type": "bar",
         "x": [
          400001964246,
          400001986520,
          400001986519,
          400002070056
         ],
         "xaxis": "x2",
         "y": [
          2,
          2,
          5,
          3
         ],
         "yaxis": "y2"
        }
       ],
       "layout": {
        "annotations": [
         {
          "font": {
           "size": 16
          },
          "showarrow": false,
          "text": "Relative percentage of each MP",
          "x": 0.225,
          "xanchor": "center",
          "xref": "paper",
          "y": 1,
          "yanchor": "bottom",
          "yref": "paper"
         },
         {
          "font": {
           "size": 16
          },
          "showarrow": false,
          "text": "Number of adjustements applied",
          "x": 0.775,
          "xanchor": "center",
          "xref": "paper",
          "y": 1,
          "yanchor": "bottom",
          "yref": "paper"
         }
        ],
        "barmode": "stack",
        "height": 500,
        "legend": {
         "title": {
          "text": "ComponentProductNo"
         }
        },
        "template": {
         "data": {
          "bar": [
           {
            "error_x": {
             "color": "#2a3f5f"
            },
            "error_y": {
             "color": "#2a3f5f"
            },
            "marker": {
             "line": {
              "color": "#E5ECF6",
              "width": 0.5
             },
             "pattern": {
              "fillmode": "overlay",
              "size": 10,
              "solidity": 0.2
             }
            },
            "type": "bar"
           }
          ],
          "barpolar": [
           {
            "marker": {
             "line": {
              "color": "#E5ECF6",
              "width": 0.5
             },
             "pattern": {
              "fillmode": "overlay",
              "size": 10,
              "solidity": 0.2
             }
            },
            "type": "barpolar"
           }
          ],
          "carpet": [
           {
            "aaxis": {
             "endlinecolor": "#2a3f5f",
             "gridcolor": "white",
             "linecolor": "white",
             "minorgridcolor": "white",
             "startlinecolor": "#2a3f5f"
            },
            "baxis": {
             "endlinecolor": "#2a3f5f",
             "gridcolor": "white",
             "linecolor": "white",
             "minorgridcolor": "white",
             "startlinecolor": "#2a3f5f"
            },
            "type": "carpet"
           }
          ],
          "choropleth": [
           {
            "colorbar": {
             "outlinewidth": 0,
             "ticks": ""
            },
            "type": "choropleth"
           }
          ],
          "contour": [
           {
            "colorbar": {
             "outlinewidth": 0,
             "ticks": ""
            },
            "colorscale": [
             [
              0,
              "#0d0887"
             ],
             [
              0.1111111111111111,
              "#46039f"
             ],
             [
              0.2222222222222222,
              "#7201a8"
             ],
             [
              0.3333333333333333,
              "#9c179e"
             ],
             [
              0.4444444444444444,
              "#bd3786"
             ],
             [
              0.5555555555555556,
              "#d8576b"
             ],
             [
              0.6666666666666666,
              "#ed7953"
             ],
             [
              0.7777777777777778,
              "#fb9f3a"
             ],
             [
              0.8888888888888888,
              "#fdca26"
             ],
             [
              1,
              "#f0f921"
             ]
            ],
            "type": "contour"
           }
          ],
          "contourcarpet": [
           {
            "colorbar": {
             "outlinewidth": 0,
             "ticks": ""
            },
            "type": "contourcarpet"
           }
          ],
          "heatmap": [
           {
            "colorbar": {
             "outlinewidth": 0,
             "ticks": ""
            },
            "colorscale": [
             [
              0,
              "#0d0887"
             ],
             [
              0.1111111111111111,
              "#46039f"
             ],
             [
              0.2222222222222222,
              "#7201a8"
             ],
             [
              0.3333333333333333,
              "#9c179e"
             ],
             [
              0.4444444444444444,
              "#bd3786"
             ],
             [
              0.5555555555555556,
              "#d8576b"
             ],
             [
              0.6666666666666666,
              "#ed7953"
             ],
             [
              0.7777777777777778,
              "#fb9f3a"
             ],
             [
              0.8888888888888888,
              "#fdca26"
             ],
             [
              1,
              "#f0f921"
             ]
            ],
            "type": "heatmap"
           }
          ],
          "heatmapgl": [
           {
            "colorbar": {
             "outlinewidth": 0,
             "ticks": ""
            },
            "colorscale": [
             [
              0,
              "#0d0887"
             ],
             [
              0.1111111111111111,
              "#46039f"
             ],
             [
              0.2222222222222222,
              "#7201a8"
             ],
             [
              0.3333333333333333,
              "#9c179e"
             ],
             [
              0.4444444444444444,
              "#bd3786"
             ],
             [
              0.5555555555555556,
              "#d8576b"
             ],
             [
              0.6666666666666666,
              "#ed7953"
             ],
             [
              0.7777777777777778,
              "#fb9f3a"
             ],
             [
              0.8888888888888888,
              "#fdca26"
             ],
             [
              1,
              "#f0f921"
             ]
            ],
            "type": "heatmapgl"
           }
          ],
          "histogram": [
           {
            "marker": {
             "pattern": {
              "fillmode": "overlay",
              "size": 10,
              "solidity": 0.2
             }
            },
            "type": "histogram"
           }
          ],
          "histogram2d": [
           {
            "colorbar": {
             "outlinewidth": 0,
             "ticks": ""
            },
            "colorscale": [
             [
              0,
              "#0d0887"
             ],
             [
              0.1111111111111111,
              "#46039f"
             ],
             [
              0.2222222222222222,
              "#7201a8"
             ],
             [
              0.3333333333333333,
              "#9c179e"
             ],
             [
              0.4444444444444444,
              "#bd3786"
             ],
             [
              0.5555555555555556,
              "#d8576b"
             ],
             [
              0.6666666666666666,
              "#ed7953"
             ],
             [
              0.7777777777777778,
              "#fb9f3a"
             ],
             [
              0.8888888888888888,
              "#fdca26"
             ],
             [
              1,
              "#f0f921"
             ]
            ],
            "type": "histogram2d"
           }
          ],
          "histogram2dcontour": [
           {
            "colorbar": {
             "outlinewidth": 0,
             "ticks": ""
            },
            "colorscale": [
             [
              0,
              "#0d0887"
             ],
             [
              0.1111111111111111,
              "#46039f"
             ],
             [
              0.2222222222222222,
              "#7201a8"
             ],
             [
              0.3333333333333333,
              "#9c179e"
             ],
             [
              0.4444444444444444,
              "#bd3786"
             ],
             [
              0.5555555555555556,
              "#d8576b"
             ],
             [
              0.6666666666666666,
              "#ed7953"
             ],
             [
              0.7777777777777778,
              "#fb9f3a"
             ],
             [
              0.8888888888888888,
              "#fdca26"
             ],
             [
              1,
              "#f0f921"
             ]
            ],
            "type": "histogram2dcontour"
           }
          ],
          "mesh3d": [
           {
            "colorbar": {
             "outlinewidth": 0,
             "ticks": ""
            },
            "type": "mesh3d"
           }
          ],
          "parcoords": [
           {
            "line": {
             "colorbar": {
              "outlinewidth": 0,
              "ticks": ""
             }
            },
            "type": "parcoords"
           }
          ],
          "pie": [
           {
            "automargin": true,
            "type": "pie"
           }
          ],
          "scatter": [
           {
            "fillpattern": {
             "fillmode": "overlay",
             "size": 10,
             "solidity": 0.2
            },
            "type": "scatter"
           }
          ],
          "scatter3d": [
           {
            "line": {
             "colorbar": {
              "outlinewidth": 0,
              "ticks": ""
             }
            },
            "marker": {
             "colorbar": {
              "outlinewidth": 0,
              "ticks": ""
             }
            },
            "type": "scatter3d"
           }
          ],
          "scattercarpet": [
           {
            "marker": {
             "colorbar": {
              "outlinewidth": 0,
              "ticks": ""
             }
            },
            "type": "scattercarpet"
           }
          ],
          "scattergeo": [
           {
            "marker": {
             "colorbar": {
              "outlinewidth": 0,
              "ticks": ""
             }
            },
            "type": "scattergeo"
           }
          ],
          "scattergl": [
           {
            "marker": {
             "colorbar": {
              "outlinewidth": 0,
              "ticks": ""
             }
            },
            "type": "scattergl"
           }
          ],
          "scattermapbox": [
           {
            "marker": {
             "colorbar": {
              "outlinewidth": 0,
              "ticks": ""
             }
            },
            "type": "scattermapbox"
           }
          ],
          "scatterpolar": [
           {
            "marker": {
             "colorbar": {
              "outlinewidth": 0,
              "ticks": ""
             }
            },
            "type": "scatterpolar"
           }
          ],
          "scatterpolargl": [
           {
            "marker": {
             "colorbar": {
              "outlinewidth": 0,
              "ticks": ""
             }
            },
            "type": "scatterpolargl"
           }
          ],
          "scatterternary": [
           {
            "marker": {
             "colorbar": {
              "outlinewidth": 0,
              "ticks": ""
             }
            },
            "type": "scatterternary"
           }
          ],
          "surface": [
           {
            "colorbar": {
             "outlinewidth": 0,
             "ticks": ""
            },
            "colorscale": [
             [
              0,
              "#0d0887"
             ],
             [
              0.1111111111111111,
              "#46039f"
             ],
             [
              0.2222222222222222,
              "#7201a8"
             ],
             [
              0.3333333333333333,
              "#9c179e"
             ],
             [
              0.4444444444444444,
              "#bd3786"
             ],
             [
              0.5555555555555556,
              "#d8576b"
             ],
             [
              0.6666666666666666,
              "#ed7953"
             ],
             [
              0.7777777777777778,
              "#fb9f3a"
             ],
             [
              0.8888888888888888,
              "#fdca26"
             ],
             [
              1,
              "#f0f921"
             ]
            ],
            "type": "surface"
           }
          ],
          "table": [
           {
            "cells": {
             "fill": {
              "color": "#EBF0F8"
             },
             "line": {
              "color": "white"
             }
            },
            "header": {
             "fill": {
              "color": "#C8D4E3"
             },
             "line": {
              "color": "white"
             }
            },
            "type": "table"
           }
          ]
         },
         "layout": {
          "annotationdefaults": {
           "arrowcolor": "#2a3f5f",
           "arrowhead": 0,
           "arrowwidth": 1
          },
          "autotypenumbers": "strict",
          "coloraxis": {
           "colorbar": {
            "outlinewidth": 0,
            "ticks": ""
           }
          },
          "colorscale": {
           "diverging": [
            [
             0,
             "#8e0152"
            ],
            [
             0.1,
             "#c51b7d"
            ],
            [
             0.2,
             "#de77ae"
            ],
            [
             0.3,
             "#f1b6da"
            ],
            [
             0.4,
             "#fde0ef"
            ],
            [
             0.5,
             "#f7f7f7"
            ],
            [
             0.6,
             "#e6f5d0"
            ],
            [
             0.7,
             "#b8e186"
            ],
            [
             0.8,
             "#7fbc41"
            ],
            [
             0.9,
             "#4d9221"
            ],
            [
             1,
             "#276419"
            ]
           ],
           "sequential": [
            [
             0,
             "#0d0887"
            ],
            [
             0.1111111111111111,
             "#46039f"
            ],
            [
             0.2222222222222222,
             "#7201a8"
            ],
            [
             0.3333333333333333,
             "#9c179e"
            ],
            [
             0.4444444444444444,
             "#bd3786"
            ],
            [
             0.5555555555555556,
             "#d8576b"
            ],
            [
             0.6666666666666666,
             "#ed7953"
            ],
            [
             0.7777777777777778,
             "#fb9f3a"
            ],
            [
             0.8888888888888888,
             "#fdca26"
            ],
            [
             1,
             "#f0f921"
            ]
           ],
           "sequentialminus": [
            [
             0,
             "#0d0887"
            ],
            [
             0.1111111111111111,
             "#46039f"
            ],
            [
             0.2222222222222222,
             "#7201a8"
            ],
            [
             0.3333333333333333,
             "#9c179e"
            ],
            [
             0.4444444444444444,
             "#bd3786"
            ],
            [
             0.5555555555555556,
             "#d8576b"
            ],
            [
             0.6666666666666666,
             "#ed7953"
            ],
            [
             0.7777777777777778,
             "#fb9f3a"
            ],
            [
             0.8888888888888888,
             "#fdca26"
            ],
            [
             1,
             "#f0f921"
            ]
           ]
          },
          "colorway": [
           "#636efa",
           "#EF553B",
           "#00cc96",
           "#ab63fa",
           "#FFA15A",
           "#19d3f3",
           "#FF6692",
           "#B6E880",
           "#FF97FF",
           "#FECB52"
          ],
          "font": {
           "color": "#2a3f5f"
          },
          "geo": {
           "bgcolor": "white",
           "lakecolor": "white",
           "landcolor": "#E5ECF6",
           "showlakes": true,
           "showland": true,
           "subunitcolor": "white"
          },
          "hoverlabel": {
           "align": "left"
          },
          "hovermode": "closest",
          "mapbox": {
           "style": "light"
          },
          "paper_bgcolor": "white",
          "plot_bgcolor": "#E5ECF6",
          "polar": {
           "angularaxis": {
            "gridcolor": "white",
            "linecolor": "white",
            "ticks": ""
           },
           "bgcolor": "#E5ECF6",
           "radialaxis": {
            "gridcolor": "white",
            "linecolor": "white",
            "ticks": ""
           }
          },
          "scene": {
           "xaxis": {
            "backgroundcolor": "#E5ECF6",
            "gridcolor": "white",
            "gridwidth": 2,
            "linecolor": "white",
            "showbackground": true,
            "ticks": "",
            "zerolinecolor": "white"
           },
           "yaxis": {
            "backgroundcolor": "#E5ECF6",
            "gridcolor": "white",
            "gridwidth": 2,
            "linecolor": "white",
            "showbackground": true,
            "ticks": "",
            "zerolinecolor": "white"
           },
           "zaxis": {
            "backgroundcolor": "#E5ECF6",
            "gridcolor": "white",
            "gridwidth": 2,
            "linecolor": "white",
            "showbackground": true,
            "ticks": "",
            "zerolinecolor": "white"
           }
          },
          "shapedefaults": {
           "line": {
            "color": "#2a3f5f"
           }
          },
          "ternary": {
           "aaxis": {
            "gridcolor": "white",
            "linecolor": "white",
            "ticks": ""
           },
           "baxis": {
            "gridcolor": "white",
            "linecolor": "white",
            "ticks": ""
           },
           "bgcolor": "#E5ECF6",
           "caxis": {
            "gridcolor": "white",
            "linecolor": "white",
            "ticks": ""
           }
          },
          "title": {
           "x": 0.05
          },
          "xaxis": {
           "automargin": true,
           "gridcolor": "white",
           "linecolor": "white",
           "ticks": "",
           "title": {
            "standoff": 15
           },
           "zerolinecolor": "white",
           "zerolinewidth": 2
          },
          "yaxis": {
           "automargin": true,
           "gridcolor": "white",
           "linecolor": "white",
           "ticks": "",
           "title": {
            "standoff": 15
           },
           "zerolinecolor": "white",
           "zerolinewidth": 2
          }
         }
        },
        "title": {
         "text": "Relative percentage of MP adjusted in orders for ZZ96564502 \n Percentage of adjusted orders : 100.0 %"
        },
        "width": 1000,
        "xaxis": {
         "anchor": "y",
         "categoryarray": [
          400001964246,
          400001986520,
          400001986519,
          400002070056
         ],
         "categoryorder": "array",
         "domain": [
          0,
          0.45
         ],
         "title": {
          "text": "WipOrderNo"
         },
         "type": "category"
        },
        "xaxis2": {
         "anchor": "y2",
         "categoryarray": [
          400001964246,
          400001986520,
          400001986519,
          400002070056
         ],
         "categoryorder": "array",
         "domain": [
          0.55,
          1
         ],
         "title": {
          "text": "WipOrderNo"
         },
         "type": "category"
        },
        "yaxis": {
         "anchor": "x",
         "domain": [
          0,
          1
         ]
        },
        "yaxis2": {
         "anchor": "x2",
         "domain": [
          0,
          1
         ]
        }
       }
      }
     },
     "metadata": {},
     "output_type": "display_data"
    }
   ],
   "source": [
    "formulas_ids_to_plot = list(selected_formulas_ids)[:5]\n",
    "factory.plot_selected_formulas(formulas_ids_to_plot)"
   ]
  },
  {
   "cell_type": "markdown",
   "metadata": {},
   "source": [
    "Generate plots for the selected formulas and export them to a pdf file."
   ]
  },
  {
   "cell_type": "code",
   "execution_count": 16,
   "metadata": {},
   "outputs": [],
   "source": [
    "plots_filename = \"Formulas_plotted.pdf\"\n",
    "factory.plot_selected_formulas_to_pdf(formulas_ids_to_plot, plots_files_path + plots_filename)"
   ]
  },
  {
   "cell_type": "markdown",
   "metadata": {},
   "source": [
    "Generate plots for the selected formulas with respect to the setted references and export them to a pdf file."
   ]
  },
  {
   "cell_type": "code",
   "execution_count": 17,
   "metadata": {},
   "outputs": [],
   "source": [
    "plots_filename = \"Formulas_plotted_with_ref.pdf\"\n",
    "factory.plot_selected_formulas_with_ref_to_pdf(formulas_ids_to_plot, plots_files_path + plots_filename)"
   ]
  },
  {
   "cell_type": "markdown",
   "metadata": {},
   "source": [
    "### 5 - Data Modelling :"
   ]
  },
  {
   "cell_type": "markdown",
   "metadata": {},
   "source": [
    "#### 5.1 - Filtering Stable Formulas Stage :"
   ]
  },
  {
   "cell_type": "markdown",
   "metadata": {},
   "source": [
    "Set stability criteria to identify stable formulas."
   ]
  },
  {
   "cell_type": "code",
   "execution_count": 18,
   "metadata": {},
   "outputs": [],
   "source": [
    "THRESHOLD_ADJUSTEMENTS_ACCEPTED = 0\n",
    "NB_OF_RECENT_BATCHES_CONSIDERED = 3\n",
    "THRESHOLD_CV = 0.002\n",
    "MIN_ACCEPTED_BATCHES = 3"
   ]
  },
  {
   "cell_type": "markdown",
   "metadata": {},
   "source": [
    "Identify stable formulas by applying specified stability criteria"
   ]
  },
  {
   "cell_type": "code",
   "execution_count": 19,
   "metadata": {},
   "outputs": [],
   "source": [
    "stable_formulas = factory.search_of_stable_formulas(selected_formulas_ids = selected_formulas_ids , threshold_adjustements_accepted = THRESHOLD_ADJUSTEMENTS_ACCEPTED ,nb_of_recent_batches_considered = NB_OF_RECENT_BATCHES_CONSIDERED , threshold_cv = THRESHOLD_CV , min_accepted_batches = MIN_ACCEPTED_BATCHES)"
   ]
  },
  {
   "cell_type": "code",
   "execution_count": 20,
   "metadata": {},
   "outputs": [],
   "source": [
    "stable_formulas_ids_list = []\n",
    "for stable_formula in stable_formulas:\n",
    "    stable_formulas_ids_list.append(list(stable_formula.keys())[0])\n"
   ]
  },
  {
   "cell_type": "markdown",
   "metadata": {},
   "source": [
    "Remove the stable formulas from the list of selected formulas to prepare for the grid search stage."
   ]
  },
  {
   "cell_type": "code",
   "execution_count": 21,
   "metadata": {},
   "outputs": [],
   "source": [
    "selected_formulas_ids =  selected_formulas_ids - set(stable_formulas_ids_list) "
   ]
  },
  {
   "cell_type": "markdown",
   "metadata": {},
   "source": [
    "#### 5.2 - Filtering Stable Last Batch Formulas Stage :"
   ]
  },
  {
   "cell_type": "markdown",
   "metadata": {},
   "source": [
    "Identify formulas with stable last batches by checking whether the last batch of each formula has been adjusted."
   ]
  },
  {
   "cell_type": "code",
   "execution_count": 22,
   "metadata": {},
   "outputs": [],
   "source": [
    "last_batch_not_adjusted_formula = []\n",
    "for formula_id in factory.formulas_dict:\n",
    "    formula_object = factory.formulas_dict[formula_id]\n",
    "    if formula_object.batches_arr[-1].adjusted :\n",
    "        last_batch_not_adjusted_formula.append(formula_id)"
   ]
  },
  {
   "cell_type": "markdown",
   "metadata": {},
   "source": [
    "Remove the last batch stable formulas from the list of selected formulas to prepare for the grid search stage.\n"
   ]
  },
  {
   "cell_type": "code",
   "execution_count": 23,
   "metadata": {},
   "outputs": [],
   "source": [
    "stable_last_batch_formulas_ids_list = set(last_batch_not_adjusted_formula) & set(selected_formulas_ids)\n",
    "selected_formulas_ids =  selected_formulas_ids - stable_last_batch_formulas_ids_list "
   ]
  },
  {
   "cell_type": "markdown",
   "metadata": {},
   "source": [
    "#### 5.3 - Gridsearch Stage :"
   ]
  },
  {
   "cell_type": "markdown",
   "metadata": {},
   "source": [
    "##### 5.3.1 - Setting gridsearch parameters :"
   ]
  },
  {
   "cell_type": "markdown",
   "metadata": {},
   "source": [
    "The user should enter the `LIMIT_INITIALIZATION_DATE` in the format \"YYYY-MM-DD\" to specify the starting date for the historical data."
   ]
  },
  {
   "cell_type": "code",
   "execution_count": 24,
   "metadata": {},
   "outputs": [],
   "source": [
    "#LIMIT_INITIALIZATION_DATE = '2024-01-15'\n",
    "LIMIT_INITIALIZATION_DATE = '2022-08-01'"
   ]
  },
  {
   "cell_type": "markdown",
   "metadata": {},
   "source": [
    "Set the grid search parameters to generate recommendations for formulas references."
   ]
  },
  {
   "cell_type": "code",
   "execution_count": 25,
   "metadata": {},
   "outputs": [],
   "source": [
    "param_ranges = {\n",
    "    'nb_batches_to_remove' : [1 , 2],\n",
    "    'min_nb_batches' : [2 , 3 , 4 , 5 , 6 , 7],\n",
    "    'max_nb_adjustments' : [5 , 6 , 7 , 8 , 9 , 10 , 11],\n",
    "    'limit_initialization_date' : [pd.Period(LIMIT_INITIALIZATION_DATE)] ,\n",
    "    'weighted' : [False , True] , \n",
    "    'initial_weight' : [1 , 1.2],\n",
    "    'increase_rate': [ 0.2 , 0.25 , 0.3 , 0.35]\n",
    "}"
   ]
  },
  {
   "cell_type": "markdown",
   "metadata": {},
   "source": [
    "##### 5.3.2 - Running gridsearch process :"
   ]
  },
  {
   "cell_type": "code",
   "execution_count": 26,
   "metadata": {},
   "outputs": [
    {
     "name": "stderr",
     "output_type": "stream",
     "text": [
      "Processing search: 30it [00:00, 295.52it/s]"
     ]
    },
    {
     "name": "stderr",
     "output_type": "stream",
     "text": [
      "Processing search: 1344it [00:02, 596.88it/s]\n",
      "Processing search: 1344it [00:01, 699.34it/s]\n",
      "Processing search: 1344it [00:02, 655.49it/s]\n",
      "Processing search: 1344it [00:01, 688.42it/s]\n",
      "Processing search: 1344it [00:01, 683.03it/s]\n",
      "Processing search: 1344it [00:01, 696.20it/s]\n",
      "Processing search: 1344it [00:01, 711.02it/s]\n",
      "Processing search: 1344it [00:01, 683.02it/s]\n",
      "Processing search: 1344it [00:01, 717.44it/s]\n",
      "Processing search: 1344it [00:01, 692.62it/s]\n",
      "Processing search: 1344it [00:01, 708.89it/s]\n",
      "Processing search: 1344it [00:01, 678.58it/s]\n",
      "Processing search: 1344it [00:02, 663.17it/s]\n",
      "Processing search: 1344it [00:01, 696.34it/s]\n",
      "Processing search: 1344it [00:01, 698.11it/s] \n"
     ]
    }
   ],
   "source": [
    "for percentage_filtered_out_formulas_threshold in range(0,101,5):\n",
    "    passed_boolean , best_params, best_metrics , formulas_predictions , metrics_MP , formulas_ids_filtered_out , selected_batches_dict = factory.grid_search(selected_formulas_ids ,percentage_filtered_out_formulas_threshold,factory.function_metric ,param_ranges)\n",
    "    if passed_boolean :\n",
    "        break"
   ]
  },
  {
   "cell_type": "code",
   "execution_count": 27,
   "metadata": {},
   "outputs": [
    {
     "name": "stdout",
     "output_type": "stream",
     "text": [
      "Parameters used : \n",
      "\n",
      "Nb of batches removed :  1 \t Min nb of batches :  2 \t Max nb of adjustments :  6 \t Limit initialization date :  2022-08-01 \t Weighted :  True \t Initial_weight :  1 \t Increase_rate :  0.35 \n",
      "\n",
      "Average metric :  0.49821 \t Percentage of formulas filtered out :  67.30000000000001 \n",
      "\n",
      "List of formulas filtered out :  ['ZZ87791404', 'ZZ993762', 'ZZ2010028', 'ZZ9941417', 'ZZ87647706', 'ZZ2010090', 'ZZ9941704', 'ZZ20100697', 'ZZ2010113', 'ZZ993777', 'ZZP2017092C35', 'ZZ993778', 'ZZ993775', 'ZZ2010450', 'ZZ20100796', 'ZZ201005220', 'ZZ2009963', 'ZZ966010', 'ZZ20096281', 'ZZ20100639', 'ZZ966047', 'ZZ994165', 'ZZ9658823', 'ZZ99414212', 'ZZ993785', 'ZZ87654110', 'ZZ9941733', 'ZZ2009608', 'ZZ2009563', 'ZZ2009517', 'ZZ20100547', 'ZZ96571406', 'ZZ966110', 'ZZP2010226', 'ZZ99416220', 'ZZ2009855', 'ZZ994005'] \n",
      "\n"
     ]
    }
   ],
   "source": [
    "print(\"Parameters used : \\n\")\n",
    "print(\"Nb of batches removed : \" , best_params[0] , \"\\t Min nb of batches : \" , best_params[1] ,\"\\t Max nb of adjustments : \" , best_params[2] ,\"\\t Limit initialization date : \" , best_params[3] ,\"\\t Weighted : \",best_params[4],\"\\t Initial_weight : \",best_params[5] ,\"\\t Increase_rate : \",best_params[6], \"\\n\")\n",
    "print(\"Average metric : \",best_metrics[0],\"\\t Percentage of formulas filtered out : \",best_metrics[1],\"\\n\")\n",
    "print(\"List of formulas filtered out : \" ,formulas_ids_filtered_out ,\"\\n\")\n"
   ]
  },
  {
   "cell_type": "markdown",
   "metadata": {},
   "source": [
    "### 6 - Results exporting (formulas predictions compared to given formula reference):"
   ]
  },
  {
   "cell_type": "markdown",
   "metadata": {},
   "source": [
    "Apply data transfromation process on the resulted formulas predictions and the given refernce formulas from the references file"
   ]
  },
  {
   "cell_type": "code",
   "execution_count": 28,
   "metadata": {},
   "outputs": [],
   "source": [
    "formulas_predictions_df = transform_formulas_prediction(formulas_predictions)\n",
    "reference_df_aux = transform_reference_df(reference_df , formulas_predictions)"
   ]
  },
  {
   "cell_type": "markdown",
   "metadata": {},
   "source": [
    "Identify key indicators regarding the production requests for the selected formula IDs, and add these indicators to the results Excel file."
   ]
  },
  {
   "cell_type": "code",
   "execution_count": 29,
   "metadata": {},
   "outputs": [],
   "source": [
    "four_ten_days_requested_formulas_df_grouped , four_days_one_month_requested_formulas_df_grouped , earliest_date_after_four_days = determine_week_month_requested_formulas(requested_formulas_df , ref_date_str = data_date)"
   ]
  },
  {
   "cell_type": "code",
   "execution_count": 30,
   "metadata": {},
   "outputs": [],
   "source": [
    "parameters_metrics_variables = {'C3': '0' , \n",
    "                                'C4': len(selected_formulas_ids) ,\n",
    "                                'C7': best_params[0] ,\n",
    "                                'C8': best_params[1] ,\n",
    "                                'C9': best_params[2] ,\n",
    "                                'C10': str(best_params[3]) ,\n",
    "                                'C11': best_params[4] ,\n",
    "                                'C12': best_params[5] ,\n",
    "                                'C13': best_params[6] ,\n",
    "                                'C16': str(round(best_metrics[1],3))+\" %\" ,\n",
    "                                'C17': '' ,\n",
    "                                'C20': best_metrics[0] ,\n",
    "                                'C23': len(stable_formulas) ,\n",
    "                                'C24': THRESHOLD_ADJUSTEMENTS_ACCEPTED ,\n",
    "                                'C25': NB_OF_RECENT_BATCHES_CONSIDERED ,\n",
    "                                'C26': MIN_ACCEPTED_BATCHES ,\n",
    "                                'C27': THRESHOLD_CV \n",
    "                                }"
   ]
  },
  {
   "cell_type": "code",
   "execution_count": 31,
   "metadata": {},
   "outputs": [
    {
     "data": {
      "text/plain": [
       "{'C3': '0',\n",
       " 'C4': 55,\n",
       " 'C7': 1,\n",
       " 'C8': 2,\n",
       " 'C9': 6,\n",
       " 'C10': '2022-08-01',\n",
       " 'C11': True,\n",
       " 'C12': 1,\n",
       " 'C13': 0.35,\n",
       " 'C16': '67.3 %',\n",
       " 'C17': '',\n",
       " 'C20': 0.49821,\n",
       " 'C23': 59,\n",
       " 'C24': 0,\n",
       " 'C25': 3,\n",
       " 'C26': 3,\n",
       " 'C27': 0.002}"
      ]
     },
     "execution_count": 31,
     "metadata": {},
     "output_type": "execute_result"
    }
   ],
   "source": [
    "parameters_metrics_variables"
   ]
  },
  {
   "cell_type": "markdown",
   "metadata": {},
   "source": [
    "Export the results to an Excel file with three sheets:\n",
    "\n",
    "- **Formulas Predictions**: Contains detailed predictions of formula references and comparisons with the given formula references.\n",
    "- **Formulas Indicators**: Provides detailed information about the formulas, including production requests, stability status (stable formula, last batch stable formula), grid search results (passed or filtered out), and a summary recommendation for each formula reference change.\n",
    "- **Parameters and Metrics**: Details the parameters and key metrics used in the stable formulas filtering and grid search processes.\n"
   ]
  },
  {
   "cell_type": "code",
   "execution_count": 32,
   "metadata": {},
   "outputs": [
    {
     "name": "stdout",
     "output_type": "stream",
     "text": [
      "Results excel file is created .\n"
     ]
    }
   ],
   "source": [
    "factory.export_predicted_and_ref_formulas_to_excel(results_files_path + \"results_full_history_test.xlsx\" , 2 ,formulas_predictions_df , reference_df_aux , four_ten_days_requested_formulas_df_grouped , four_days_one_month_requested_formulas_df_grouped ,earliest_date_after_four_days, formulas_ids_filtered_out, stable_formulas_ids_list , stable_last_batch_formulas_ids_list , parameters_metrics_variables)"
   ]
  }
 ],
 "metadata": {
  "kernelspec": {
   "display_name": "Python 3",
   "language": "python",
   "name": "python3"
  },
  "language_info": {
   "codemirror_mode": {
    "name": "ipython",
    "version": 3
   },
   "file_extension": ".py",
   "mimetype": "text/x-python",
   "name": "python",
   "nbconvert_exporter": "python",
   "pygments_lexer": "ipython3",
   "version": "3.11.1"
  }
 },
 "nbformat": 4,
 "nbformat_minor": 2
}
